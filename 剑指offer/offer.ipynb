{
 "cells": [
  {
   "cell_type": "markdown",
   "metadata": {
    "toc": true
   },
   "source": [
    "<h1>Table of Contents<span class=\"tocSkip\"></span></h1>\n",
    "<div class=\"toc\"><ul class=\"toc-item\"><li><span><a href=\"#二维数组中的查找\" data-toc-modified-id=\"二维数组中的查找-1\"><span class=\"toc-item-num\">1&nbsp;&nbsp;</span>二维数组中的查找</a></span></li><li><span><a href=\"#从尾到头打印链表\" data-toc-modified-id=\"从尾到头打印链表-2\"><span class=\"toc-item-num\">2&nbsp;&nbsp;</span>从尾到头打印链表</a></span></li><li><span><a href=\"#重建二叉树\" data-toc-modified-id=\"重建二叉树-3\"><span class=\"toc-item-num\">3&nbsp;&nbsp;</span>重建二叉树</a></span></li><li><span><a href=\"#调整数组顺序使奇数位于偶数前面\" data-toc-modified-id=\"调整数组顺序使奇数位于偶数前面-4\"><span class=\"toc-item-num\">4&nbsp;&nbsp;</span>调整数组顺序使奇数位于偶数前面</a></span></li><li><span><a href=\"#用两个栈来实现队列\" data-toc-modified-id=\"用两个栈来实现队列-5\"><span class=\"toc-item-num\">5&nbsp;&nbsp;</span>用两个栈来实现队列</a></span></li><li><span><a href=\"#用两个队列实现栈\" data-toc-modified-id=\"用两个队列实现栈-6\"><span class=\"toc-item-num\">6&nbsp;&nbsp;</span>用两个队列实现栈</a></span></li><li><span><a href=\"#旋转数组中的最小数字\" data-toc-modified-id=\"旋转数组中的最小数字-7\"><span class=\"toc-item-num\">7&nbsp;&nbsp;</span>旋转数组中的最小数字</a></span></li><li><span><a href=\"#斐波那契数列\" data-toc-modified-id=\"斐波那契数列-8\"><span class=\"toc-item-num\">8&nbsp;&nbsp;</span>斐波那契数列</a></span></li><li><span><a href=\"#跳台阶\" data-toc-modified-id=\"跳台阶-9\"><span class=\"toc-item-num\">9&nbsp;&nbsp;</span>跳台阶</a></span></li><li><span><a href=\"#变态跳台阶\" data-toc-modified-id=\"变态跳台阶-10\"><span class=\"toc-item-num\">10&nbsp;&nbsp;</span>变态跳台阶</a></span></li><li><span><a href=\"#矩阵覆盖\" data-toc-modified-id=\"矩阵覆盖-11\"><span class=\"toc-item-num\">11&nbsp;&nbsp;</span>矩阵覆盖</a></span></li><li><span><a href=\"#二进制中1的个数\" data-toc-modified-id=\"二进制中1的个数-12\"><span class=\"toc-item-num\">12&nbsp;&nbsp;</span>二进制中1的个数</a></span></li><li><span><a href=\"#字符串的排列\" data-toc-modified-id=\"字符串的排列-13\"><span class=\"toc-item-num\">13&nbsp;&nbsp;</span>字符串的排列</a></span></li><li><span><a href=\"#数值的整数次方\" data-toc-modified-id=\"数值的整数次方-14\"><span class=\"toc-item-num\">14&nbsp;&nbsp;</span>数值的整数次方</a></span></li><li><span><a href=\"#链表中倒数第k个节点\" data-toc-modified-id=\"链表中倒数第k个节点-15\"><span class=\"toc-item-num\">15&nbsp;&nbsp;</span>链表中倒数第k个节点</a></span></li><li><span><a href=\"#反转链表\" data-toc-modified-id=\"反转链表-16\"><span class=\"toc-item-num\">16&nbsp;&nbsp;</span>反转链表</a></span></li><li><span><a href=\"#合并两个排序的链表\" data-toc-modified-id=\"合并两个排序的链表-17\"><span class=\"toc-item-num\">17&nbsp;&nbsp;</span>合并两个排序的链表</a></span></li><li><span><a href=\"#树的子结构\" data-toc-modified-id=\"树的子结构-18\"><span class=\"toc-item-num\">18&nbsp;&nbsp;</span>树的子结构</a></span></li><li><span><a href=\"#二叉树的镜像\" data-toc-modified-id=\"二叉树的镜像-19\"><span class=\"toc-item-num\">19&nbsp;&nbsp;</span>二叉树的镜像</a></span></li><li><span><a href=\"#顺时针打印矩阵\" data-toc-modified-id=\"顺时针打印矩阵-20\"><span class=\"toc-item-num\">20&nbsp;&nbsp;</span>顺时针打印矩阵</a></span></li><li><span><a href=\"#包含min函数的栈\" data-toc-modified-id=\"包含min函数的栈-21\"><span class=\"toc-item-num\">21&nbsp;&nbsp;</span>包含min函数的栈</a></span></li><li><span><a href=\"#从上往下打印二叉树\" data-toc-modified-id=\"从上往下打印二叉树-22\"><span class=\"toc-item-num\">22&nbsp;&nbsp;</span>从上往下打印二叉树</a></span></li><li><span><a href=\"#二叉搜索树的后序遍历序列\" data-toc-modified-id=\"二叉搜索树的后序遍历序列-23\"><span class=\"toc-item-num\">23&nbsp;&nbsp;</span>二叉搜索树的后序遍历序列</a></span></li><li><span><a href=\"#二叉树中和为某一值的路径\" data-toc-modified-id=\"二叉树中和为某一值的路径-24\"><span class=\"toc-item-num\">24&nbsp;&nbsp;</span>二叉树中和为某一值的路径</a></span></li><li><span><a href=\"#复杂链表的复制\" data-toc-modified-id=\"复杂链表的复制-25\"><span class=\"toc-item-num\">25&nbsp;&nbsp;</span>复杂链表的复制</a></span></li><li><span><a href=\"#二叉搜索树与双向链表\" data-toc-modified-id=\"二叉搜索树与双向链表-26\"><span class=\"toc-item-num\">26&nbsp;&nbsp;</span>二叉搜索树与双向链表</a></span></li><li><span><a href=\"#数组中出现次数超过一半的数字\" data-toc-modified-id=\"数组中出现次数超过一半的数字-27\"><span class=\"toc-item-num\">27&nbsp;&nbsp;</span>数组中出现次数超过一半的数字</a></span></li><li><span><a href=\"#最小的K个数\" data-toc-modified-id=\"最小的K个数-28\"><span class=\"toc-item-num\">28&nbsp;&nbsp;</span>最小的K个数</a></span></li><li><span><a href=\"#连续子数组的最大和\" data-toc-modified-id=\"连续子数组的最大和-29\"><span class=\"toc-item-num\">29&nbsp;&nbsp;</span>连续子数组的最大和</a></span></li><li><span><a href=\"#把数组排成最小的数\" data-toc-modified-id=\"把数组排成最小的数-30\"><span class=\"toc-item-num\">30&nbsp;&nbsp;</span>把数组排成最小的数</a></span></li><li><span><a href=\"#丑数\" data-toc-modified-id=\"丑数-31\"><span class=\"toc-item-num\">31&nbsp;&nbsp;</span>丑数</a></span></li><li><span><a href=\"#第一个只出现一次的字符\" data-toc-modified-id=\"第一个只出现一次的字符-32\"><span class=\"toc-item-num\">32&nbsp;&nbsp;</span>第一个只出现一次的字符</a></span></li><li><span><a href=\"#两个链表的第一个公共节点\" data-toc-modified-id=\"两个链表的第一个公共节点-33\"><span class=\"toc-item-num\">33&nbsp;&nbsp;</span>两个链表的第一个公共节点</a></span></li><li><span><a href=\"#数字在排序数组中出现的次数\" data-toc-modified-id=\"数字在排序数组中出现的次数-34\"><span class=\"toc-item-num\">34&nbsp;&nbsp;</span>数字在排序数组中出现的次数</a></span></li><li><span><a href=\"#二叉树的深度\" data-toc-modified-id=\"二叉树的深度-35\"><span class=\"toc-item-num\">35&nbsp;&nbsp;</span>二叉树的深度</a></span></li><li><span><a href=\"#平衡二叉树\" data-toc-modified-id=\"平衡二叉树-36\"><span class=\"toc-item-num\">36&nbsp;&nbsp;</span>平衡二叉树</a></span></li><li><span><a href=\"#数组中只出现一次的数字\" data-toc-modified-id=\"数组中只出现一次的数字-37\"><span class=\"toc-item-num\">37&nbsp;&nbsp;</span>数组中只出现一次的数字</a></span></li><li><span><a href=\"#和为S的两个数字\" data-toc-modified-id=\"和为S的两个数字-38\"><span class=\"toc-item-num\">38&nbsp;&nbsp;</span>和为S的两个数字</a></span></li><li><span><a href=\"#和为S的连续正数序列\" data-toc-modified-id=\"和为S的连续正数序列-39\"><span class=\"toc-item-num\">39&nbsp;&nbsp;</span>和为S的连续正数序列</a></span></li><li><span><a href=\"#翻转单词顺序列\" data-toc-modified-id=\"翻转单词顺序列-40\"><span class=\"toc-item-num\">40&nbsp;&nbsp;</span>翻转单词顺序列</a></span></li><li><span><a href=\"#左旋转字符串\" data-toc-modified-id=\"左旋转字符串-41\"><span class=\"toc-item-num\">41&nbsp;&nbsp;</span>左旋转字符串</a></span></li><li><span><a href=\"#扑克牌顺子\" data-toc-modified-id=\"扑克牌顺子-42\"><span class=\"toc-item-num\">42&nbsp;&nbsp;</span>扑克牌顺子</a></span></li><li><span><a href=\"#孩子们的游戏(圆圈中最后剩下的数)\" data-toc-modified-id=\"孩子们的游戏(圆圈中最后剩下的数)-43\"><span class=\"toc-item-num\">43&nbsp;&nbsp;</span>孩子们的游戏(圆圈中最后剩下的数)</a></span></li><li><span><a href=\"#数组中重复的数字\" data-toc-modified-id=\"数组中重复的数字-44\"><span class=\"toc-item-num\">44&nbsp;&nbsp;</span>数组中重复的数字</a></span></li><li><span><a href=\"#构建乘积数组\" data-toc-modified-id=\"构建乘积数组-45\"><span class=\"toc-item-num\">45&nbsp;&nbsp;</span>构建乘积数组</a></span></li><li><span><a href=\"#链表中环的入口结点\" data-toc-modified-id=\"链表中环的入口结点-46\"><span class=\"toc-item-num\">46&nbsp;&nbsp;</span>链表中环的入口结点</a></span></li><li><span><a href=\"#删除链表中重复的结点\" data-toc-modified-id=\"删除链表中重复的结点-47\"><span class=\"toc-item-num\">47&nbsp;&nbsp;</span>删除链表中重复的结点</a></span></li><li><span><a href=\"#二叉树的下一个结点\" data-toc-modified-id=\"二叉树的下一个结点-48\"><span class=\"toc-item-num\">48&nbsp;&nbsp;</span>二叉树的下一个结点</a></span></li><li><span><a href=\"#按之字形顺序打印二叉树\" data-toc-modified-id=\"按之字形顺序打印二叉树-49\"><span class=\"toc-item-num\">49&nbsp;&nbsp;</span>按之字形顺序打印二叉树</a></span></li><li><span><a href=\"#把二叉树打印成多行\" data-toc-modified-id=\"把二叉树打印成多行-50\"><span class=\"toc-item-num\">50&nbsp;&nbsp;</span>把二叉树打印成多行</a></span></li><li><span><a href=\"#序列化二叉树\" data-toc-modified-id=\"序列化二叉树-51\"><span class=\"toc-item-num\">51&nbsp;&nbsp;</span>序列化二叉树</a></span></li><li><span><a href=\"#二叉搜索树的第k个结点\" data-toc-modified-id=\"二叉搜索树的第k个结点-52\"><span class=\"toc-item-num\">52&nbsp;&nbsp;</span>二叉搜索树的第k个结点</a></span></li><li><span><a href=\"#数据流中的中位数\" data-toc-modified-id=\"数据流中的中位数-53\"><span class=\"toc-item-num\">53&nbsp;&nbsp;</span>数据流中的中位数</a></span></li><li><span><a href=\"#字符流中第一个不重复的字符\" data-toc-modified-id=\"字符流中第一个不重复的字符-54\"><span class=\"toc-item-num\">54&nbsp;&nbsp;</span>字符流中第一个不重复的字符</a></span></li></ul></div>"
   ]
  },
  {
   "cell_type": "markdown",
   "metadata": {},
   "source": [
    "https://github.com/JushuangQiao/Python-Offer\n"
   ]
  },
  {
   "cell_type": "markdown",
   "metadata": {},
   "source": [
    "# 二维数组中的查找\n",
    "\n",
    "\n",
    "\n",
    "题目描述\n",
    "在一个 n * m 的二维数组中，每一行都按照从左到右递增的顺序排序，每一列都按照从上到下递增的顺序排序。请完成一个函数，输入这样的一个二维数组和一个整数，判断数组中是否含有该整数。\n",
    "\n",
    "示例:\n",
    "\n",
    "现有矩阵 matrix 如下：\n",
    "\n",
    "[\n",
    "  [1,   4,  7, 11, 15],\n",
    "  [2,   5,  8, 12, 19],\n",
    "  [3,   6,  9, 16, 22],\n",
    "  [10, 13, 14, 17, 24],\n",
    "  [18, 21, 23, 26, 30]\n",
    "]\n",
    "给定 target = 5，返回 true。\n",
    "\n",
    "给定 target = 20，返回 false。\n",
    "\n",
    "\n",
    "https://leetcode-cn.com/problems/search-a-2d-matrix-ii/\n",
    "\n"
   ]
  },
  {
   "cell_type": "code",
   "execution_count": 1,
   "metadata": {},
   "outputs": [],
   "source": [
    "class Solution:\n",
    "    # array 二维列表\n",
    "    def Find(self, target, array):\n",
    "        if not array or not array[0]:\n",
    "            return False\n",
    "        rows, cols = len(array), len(array[0])\n",
    "        i = rows - 1\n",
    "        j = 0\n",
    "        while i >= 0 and j <= cols - 1:\n",
    "            if array[i][j] == target:\n",
    "                return True\n",
    "            if array[i][j] < target:\n",
    "                j += 1\n",
    "            else:\n",
    "                i -= 1\n",
    "        return False\n",
    "        \n",
    "        "
   ]
  },
  {
   "cell_type": "code",
   "execution_count": null,
   "metadata": {},
   "outputs": [],
   "source": []
  },
  {
   "cell_type": "markdown",
   "metadata": {},
   "source": [
    "# 从尾到头打印链表\n"
   ]
  },
  {
   "cell_type": "code",
   "execution_count": 2,
   "metadata": {},
   "outputs": [],
   "source": [
    "def printListFromTailToHead(listNode):\n",
    "    ans = []\n",
    "    while listNode:\n",
    "        ans.append(listNode.value)\n",
    "        listNode = listNode.next\n",
    "    return ans[::-1]\n",
    "\n",
    "def printLinkedList(pHead):\n",
    "    if not pHead.value:\n",
    "        return\n",
    "    printLinkedList(pHead.next)\n",
    "    print(pHead.value)\n",
    "        \n",
    "    \n"
   ]
  },
  {
   "cell_type": "code",
   "execution_count": null,
   "metadata": {},
   "outputs": [],
   "source": []
  },
  {
   "cell_type": "markdown",
   "metadata": {},
   "source": [
    "# 重建二叉树\n",
    "\n",
    "题目描述：\n",
    "\n",
    "输入某二叉树的前序遍历和中序遍历的结果，请重建出该二叉树。假设输入的前序遍历和中序遍历的结果中都不含重复的数字。例如输入前序遍历序列{1,2,4,7,3,5,6,8}和中序遍历序列{4,7,2,1,5,3,8,6}，则重建二叉树并返回。\n"
   ]
  },
  {
   "cell_type": "code",
   "execution_count": 1,
   "metadata": {},
   "outputs": [],
   "source": [
    "class TreeNode:\n",
    "    \n",
    "    def __init__(self, val=0, left=None, right=None):\n",
    "        self.val = val\n",
    "        self.left = None\n",
    "        self.right = None\n",
    "        \n",
    "        \n",
    "class Solution:\n",
    "    def reConstructBinaryTree(self, pre_order, in_order):\n",
    "        if not len(pre_order):\n",
    "            return None\n",
    "        if len(pre_order) == 1:\n",
    "            return TreeNode()\n",
    "        root = TreeNode(pre_order[0])\n",
    "        index = in_order.index(pre_order[0])\n",
    "        root.left = self.reConstructBinaryTree(pre_order[1:index+1], in_order[:index])\n",
    "        root.right = self.reConstructBinaryTree(pre_order[index+1:], in_order[index+1:])\n",
    "        return root\n",
    "    "
   ]
  },
  {
   "cell_type": "code",
   "execution_count": null,
   "metadata": {},
   "outputs": [],
   "source": []
  },
  {
   "cell_type": "markdown",
   "metadata": {},
   "source": [
    "# 调整数组顺序使奇数位于偶数前面\n",
    "\n",
    "题目描述：\n",
    "\n",
    "输入一个整数数组，实现一个函数来调整该数组中数字的顺序，使得所有的奇数位于数组的前半部分，所有的偶数位于位于数组的后半部分，并保证奇数和奇数，偶数和偶数之间的相对位置不变。\n"
   ]
  },
  {
   "cell_type": "code",
   "execution_count": 6,
   "metadata": {},
   "outputs": [],
   "source": [
    "def isOdd(a):\n",
    "    return (a & 1) == 1\n",
    "\n",
    "def isOdd2(a):\n",
    "    return a % 2 != 0\n",
    "\n",
    "def re_order_array(array):\n",
    "    odd_index = 0\n",
    "    for i, num in enumerate(array):\n",
    "        if isOdd2(num):\n",
    "            array[odd_index], array[i] = array[i], array[odd_index]\n",
    "            odd_index += 1\n",
    "    return\n",
    "\n",
    "    "
   ]
  },
  {
   "cell_type": "code",
   "execution_count": 7,
   "metadata": {},
   "outputs": [
    {
     "name": "stdout",
     "output_type": "stream",
     "text": [
      "[3, 1, 8, 10, 4]\n"
     ]
    }
   ],
   "source": [
    "array = [3, 4, 8, 10, 1]\n",
    "re_order_array(array)\n",
    "print(array)\n"
   ]
  },
  {
   "cell_type": "code",
   "execution_count": null,
   "metadata": {},
   "outputs": [],
   "source": []
  },
  {
   "cell_type": "markdown",
   "metadata": {},
   "source": [
    "# 用两个栈来实现队列\n",
    "\n",
    "题目描述：\n",
    "\n",
    "用两个栈来实现一个队列，完成队列的Push和Pop操作。 队列中的元素为int类型。\n",
    "\n",
    "push时候加入stack1\n",
    "pop的时候如果stack2不为空则pop stack2否则讲stack1的元素加入stack2 pop stack2\n"
   ]
  },
  {
   "cell_type": "code",
   "execution_count": 9,
   "metadata": {},
   "outputs": [],
   "source": [
    "class MyQueue:\n",
    "    def __init__(self):\n",
    "        self.stack1 = []\n",
    "        self.stack2 = []\n",
    "    \n",
    "    def push(self, val):\n",
    "        self.stack1.append(val)\n",
    "    \n",
    "    def pop(self):\n",
    "        if self.stack2:\n",
    "            return self.stack2.pop()\n",
    "        else:\n",
    "            while self.stack1:\n",
    "                self.stack2.append(self.stack1.pop())\n",
    "            return self.stack2.pop()\n",
    "    "
   ]
  },
  {
   "cell_type": "code",
   "execution_count": 11,
   "metadata": {},
   "outputs": [
    {
     "name": "stdout",
     "output_type": "stream",
     "text": [
      "1\n",
      "2\n",
      "3\n",
      "4\n",
      "5\n"
     ]
    }
   ],
   "source": [
    "queue = MyQueue()\n",
    "queue.push(1)\n",
    "queue.push(2)\n",
    "queue.push(3)\n",
    "queue.push(4)\n",
    "print(queue.pop())\n",
    "queue.push(5)\n",
    "print(queue.pop())\n",
    "print(queue.pop())\n",
    "print(queue.pop())\n",
    "print(queue.pop())"
   ]
  },
  {
   "cell_type": "code",
   "execution_count": null,
   "metadata": {},
   "outputs": [],
   "source": []
  },
  {
   "cell_type": "markdown",
   "metadata": {},
   "source": [
    "# 用两个队列实现栈\n",
    "\n",
    "push的时候先放入queue2然后讲所有queue1的元素放到queue2,讲queue1和queue2交换\n",
    "目的是讲已经有的元素次序颠倒下\n",
    "pop时候从queue1弹出\n"
   ]
  },
  {
   "cell_type": "code",
   "execution_count": 16,
   "metadata": {},
   "outputs": [],
   "source": [
    "from collections import deque\n",
    "\n",
    "class MyStack:\n",
    "    \n",
    "    def __init__(self):\n",
    "        self.queue1 = deque()\n",
    "        self.queue2 = deque()\n",
    "    \n",
    "    def push(self, val):\n",
    "        self.queue2.append(val)\n",
    "        while self.queue1:\n",
    "            self.queue2.append(self.queue1.popleft())\n",
    "        self.queue1, self.queue2 = self.queue2, self.queue1\n",
    "    \n",
    "    def pop(self):\n",
    "        return self.queue1.popleft()\n",
    "    \n",
    "    def top(self):\n",
    "        return self.queue1[0]\n",
    "    \n",
    "    def empty(self):\n",
    "        return not self.queue1\n",
    "    \n",
    "    "
   ]
  },
  {
   "cell_type": "code",
   "execution_count": 17,
   "metadata": {},
   "outputs": [
    {
     "name": "stdout",
     "output_type": "stream",
     "text": [
      "4\n",
      "5\n",
      "3\n"
     ]
    }
   ],
   "source": [
    "mystack = MyStack()\n",
    "mystack.push(1)\n",
    "mystack.push(2)\n",
    "mystack.push(3)\n",
    "mystack.push(4)\n",
    "print(mystack.pop())\n",
    "mystack.push(5)\n",
    "print(mystack.pop())\n",
    "print(mystack.pop())\n"
   ]
  },
  {
   "cell_type": "code",
   "execution_count": null,
   "metadata": {},
   "outputs": [],
   "source": []
  },
  {
   "cell_type": "markdown",
   "metadata": {},
   "source": [
    "# 旋转数组中的最小数字\n",
    "\n",
    "\n",
    "题目描述：\n",
    "\n",
    "把一个数组最开始的若干个元素搬到数组的末尾，我们称之为数组的旋转。 输入一个非递减排序的数组的一个旋转，输出旋转数组的最小元素。 例如数组{3,4,5,1,2}为{1,2,3,4,5}的一个旋转，该数组的最小值为1。 NOTE：给出的所有元素都大于0，若数组大小为0，请返回0。\n",
    "\n",
    "\n",
    "\n",
    "使用二分法。\n",
    "\n",
    "当左边元素大于右边元素时。\n",
    "如果中间位置和左边位置右边位置的数字相同则调用min(nums)函数\n",
    "否则,如果nums[left] <= nums[mid] 说明mid左边都是排好的 left = mid 否则如果nums[right] >= nums[mid]则说明右边是排好的right = mid\n",
    "\n",
    "否则输出第一个元素\n",
    "\n",
    "https://leetcode.com/problems/find-minimum-in-rotated-sorted-array/\n"
   ]
  },
  {
   "cell_type": "code",
   "execution_count": 18,
   "metadata": {},
   "outputs": [],
   "source": [
    "def find_min(nums):\n",
    "    if not nums:\n",
    "        return False\n",
    "    left, right = 0, len(nums) - 1\n",
    "    while nums[left] >= nums[right]:\n",
    "        mid = left + (right - left) // 2\n",
    "        if nums[left] == nums[mid] == nums[right]:\n",
    "            return min(nums)\n",
    "        if nums[left] <= nums[mid]:\n",
    "            left = mid\n",
    "        if nums[right] >= nums[mid]:\n",
    "            right = mid\n",
    "    return nums[0]\n"
   ]
  },
  {
   "cell_type": "code",
   "execution_count": null,
   "metadata": {},
   "outputs": [],
   "source": []
  },
  {
   "cell_type": "markdown",
   "metadata": {},
   "source": [
    "# 斐波那契数列\n",
    "\n",
    "大家都知道斐波那契数列，现在要求输入一个整数n，请你输出斐波那契数列的第n项。\n",
    "n<=39\n"
   ]
  },
  {
   "cell_type": "code",
   "execution_count": 21,
   "metadata": {},
   "outputs": [],
   "source": [
    "def fibonacci(n):\n",
    "    a, b = 0, 1\n",
    "    for i in range(n):\n",
    "        a, b = b, a + b\n",
    "    return a"
   ]
  },
  {
   "cell_type": "code",
   "execution_count": 22,
   "metadata": {},
   "outputs": [
    {
     "data": {
      "text/plain": [
       "2"
      ]
     },
     "execution_count": 22,
     "metadata": {},
     "output_type": "execute_result"
    }
   ],
   "source": [
    "fibonacci(3)\n"
   ]
  },
  {
   "cell_type": "code",
   "execution_count": null,
   "metadata": {},
   "outputs": [],
   "source": []
  },
  {
   "cell_type": "markdown",
   "metadata": {},
   "source": [
    "# 跳台阶\n",
    "\n",
    "一只青蛙一次可以跳上1级台阶，也可以跳上2级。求该青蛙跳上一个n级的台阶总共有多少种跳法。\n",
    "\n",
    "https://leetcode.com/problems/frog-jump/\n"
   ]
  },
  {
   "cell_type": "code",
   "execution_count": 23,
   "metadata": {},
   "outputs": [],
   "source": [
    "def jump_floor(n):\n",
    "    dp = [0]*(n+1)\n",
    "    dp[1] = 1\n",
    "    dp[2] = 2\n",
    "    for i in range(n+1):\n",
    "        dp[i] = dp[i - 1] + dp[i - 2]\n",
    "    return dp[-1]\n"
   ]
  },
  {
   "cell_type": "code",
   "execution_count": null,
   "metadata": {},
   "outputs": [],
   "source": []
  },
  {
   "cell_type": "markdown",
   "metadata": {},
   "source": [
    "# 变态跳台阶\n",
    "\n",
    "\n",
    "一只青蛙一次可以跳上1级台阶，也可以跳上2级……它也可以跳上n级。求该青蛙跳上一个n级的台阶总共有多少种跳法。\n",
    "\n",
    "\n",
    "数学归纳法可以得出这个题的结果是2的n-1次方。\n",
    "\n",
    "\n",
    "\n",
    "1）这里的f(n) 代表的是n个台阶有一次1,2,…n阶的 跳法数。\n",
    "\n",
    "\n",
    "2）\n",
    "n = 1时，只有1种跳法，f(1) = 1\n",
    "\n",
    "\n",
    "n = 2时，会有两个跳得方式，一次1阶或者2阶，这回归到了问题（1） ，f(2) = f(2-1) + f(2-2)\n",
    "\n",
    "\n",
    "n = 3时，会有三种跳得方式，1阶、2阶、3阶，\n",
    "\n",
    "\n",
    "那么就是第一次跳出1阶后面剩下：f(3-1);第一次跳出2阶，剩下f(3-2)；第一次3阶，那么剩下f(3-3)\n",
    "\n",
    "\n",
    "因此结论是f(3) = f(3-1)+f(3-2)+f(3-3)\n",
    "\n",
    "\n",
    "n = n时，会有n中跳的方式，1阶、2阶…n阶，得出结论：\n",
    "\n",
    "\n",
    "f(n) = f(n-1)+f(n-2)+...+f(n-(n-1)) + f(n-n) => f(0) + f(1) + f(2) + f(3) + ... + f(n-1)\n",
    "\n",
    "\n",
    "由以上已经是一种结论，但是为了简单，我们可以继续简化：\n",
    "\n",
    "\n",
    "f(n-1) = f(0) + f(1)+f(2)+f(3) + ... + f((n-1)-1) = f(0) + f(1) + f(2) + f(3) + ... + f(n-2)\n",
    "\n",
    "\n",
    "f(n) = f(0) + f(1) + f(2) + f(3) + ... + f(n-2) + f(n-1) = f(n-1) + f(n-1)\n",
    "\n",
    "\n",
    "可以得出：\n",
    "\n",
    "\n",
    "f(n) = 2*f(n-1)\n",
    "\n",
    "\n",
    "\n",
    "得出最终结论,在n阶台阶，一次有1、2、…n阶的跳的方式时，总得跳法为：\n",
    "\n",
    "f(n) = 2*f(n-1),(n>=2)"
   ]
  },
  {
   "cell_type": "code",
   "execution_count": null,
   "metadata": {},
   "outputs": [],
   "source": []
  },
  {
   "cell_type": "markdown",
   "metadata": {},
   "source": [
    "# 矩阵覆盖\n",
    "\n",
    "\n",
    "\n",
    "我们可以用2*1的小矩形横着或者竖着去覆盖更大的矩形。请问用n个2*1的小矩形无重叠地覆盖一个2*n的大矩形，总共有多少种方法？\n",
    "\n",
    "fibonacci\n"
   ]
  },
  {
   "cell_type": "code",
   "execution_count": null,
   "metadata": {},
   "outputs": [],
   "source": []
  },
  {
   "cell_type": "markdown",
   "metadata": {},
   "source": [
    "# 二进制中1的个数\n",
    "\n",
    "输入一个整数，输出该数二进制表示中1的个数。其中负数用补码表示。\n"
   ]
  },
  {
   "cell_type": "code",
   "execution_count": 25,
   "metadata": {},
   "outputs": [],
   "source": [
    "def num_of_ones(n):\n",
    "    n_bin = '{0:b}'.format(n)\n",
    "    print(n_bin)\n",
    "    return sum([1 for i in n_bin if i == '1'])\n"
   ]
  },
  {
   "cell_type": "code",
   "execution_count": 26,
   "metadata": {},
   "outputs": [
    {
     "name": "stdout",
     "output_type": "stream",
     "text": [
      "10\n",
      "1\n"
     ]
    }
   ],
   "source": [
    "print(num_of_ones(2))"
   ]
  },
  {
   "cell_type": "code",
   "execution_count": 27,
   "metadata": {},
   "outputs": [],
   "source": [
    "def num_of_1(n):\n",
    "    ret = 0\n",
    "    while n:\n",
    "        ret += 1\n",
    "        n = n & n-1\n",
    "    return ret\n"
   ]
  },
  {
   "cell_type": "code",
   "execution_count": null,
   "metadata": {},
   "outputs": [],
   "source": []
  },
  {
   "cell_type": "markdown",
   "metadata": {},
   "source": [
    "# 字符串的排列\n",
    "\n",
    "输入一个字符串,按字典序打印出该字符串中字符的所有排列。例如输入字符串abc,则打印出由字符a,b,c所能排列出来的所有字符串abc,acb,bac,bca,cab和cba。\n",
    "\n",
    "输入描述:\n",
    "输入一个字符串,长度不超过9(可能有字符重复),字符只包括大小写字母。\n"
   ]
  },
  {
   "cell_type": "code",
   "execution_count": 32,
   "metadata": {},
   "outputs": [],
   "source": [
    "def permutation(source):\n",
    "    if not source:\n",
    "        return []\n",
    "    res = []\n",
    "    _permutation(source, res, '', len(source))\n",
    "    return sorted(list(set(res)))\n",
    "\n",
    "def _permutation(source, res, path, n):\n",
    "    if len(path) == n:\n",
    "        res.append(path)\n",
    "        return\n",
    "    for i in range(len(source)):\n",
    "        _permutation(source[:i] + source[i+1:],\n",
    "                          res, path + source[i], n)\n",
    "            "
   ]
  },
  {
   "cell_type": "code",
   "execution_count": 33,
   "metadata": {},
   "outputs": [
    {
     "name": "stdout",
     "output_type": "stream",
     "text": [
      "['abc', 'acb', 'bac', 'bca', 'cab', 'cba']\n"
     ]
    }
   ],
   "source": [
    "print(permutation('abc'))\n"
   ]
  },
  {
   "cell_type": "code",
   "execution_count": null,
   "metadata": {},
   "outputs": [],
   "source": []
  },
  {
   "cell_type": "markdown",
   "metadata": {},
   "source": [
    "# 数值的整数次方\n",
    "\n",
    "给定一个double类型的浮点数base和int类型的整数exponent。求base的exponent次方。\n"
   ]
  },
  {
   "cell_type": "code",
   "execution_count": 34,
   "metadata": {},
   "outputs": [],
   "source": [
    "def Power(x, n):\n",
    "    if n < 0:\n",
    "        return Power(1/x, -n)\n",
    "    if n == 0:\n",
    "        return 1 \n",
    "    result = Power(x, n // 2)\n",
    "    if n % 2 == 0:\n",
    "        return result**2\n",
    "    return x * result**2\n"
   ]
  },
  {
   "cell_type": "code",
   "execution_count": null,
   "metadata": {},
   "outputs": [],
   "source": []
  },
  {
   "cell_type": "markdown",
   "metadata": {},
   "source": [
    "# 链表中倒数第k个节点\n",
    "\n",
    "输入一个链表，输出该链表中倒数第k个结点。\n",
    "\n",
    "19. Remove Nth Node From End of List\n",
    "\n",
    "https://leetcode.com/problems/remove-nth-node-from-end-of-list/\n",
    "\n"
   ]
  },
  {
   "cell_type": "code",
   "execution_count": 35,
   "metadata": {},
   "outputs": [],
   "source": [
    "def find_kth_to_tail(head, k):\n",
    "    if not head or not k:\n",
    "        return None\n",
    "    slow, fast = head, head\n",
    "    for i in range(k - 1):\n",
    "        if not fast.next:\n",
    "            return None\n",
    "        fast = fast.next\n",
    "    while fast.next:\n",
    "        slow = slow.next\n",
    "        fast = fast.next\n",
    "    return slow\n",
    "    \n",
    "    \n",
    "    "
   ]
  },
  {
   "cell_type": "code",
   "execution_count": null,
   "metadata": {},
   "outputs": [],
   "source": []
  },
  {
   "cell_type": "markdown",
   "metadata": {},
   "source": [
    "# 反转链表\n",
    "\n",
    "输入一个链表，反转链表后，输出链表的所有元素。\n",
    "\n",
    "206. Reverse Linked List\n",
    "\n",
    "https://leetcode.com/problems/reverse-linked-list/\n"
   ]
  },
  {
   "cell_type": "code",
   "execution_count": 36,
   "metadata": {},
   "outputs": [],
   "source": [
    "def reverse_list(head):\n",
    "    if not head or not head.next:\n",
    "        return head\n",
    "    prev = None\n",
    "    while head:\n",
    "        temp = head.next\n",
    "        head.next = prev\n",
    "        prev = head\n",
    "        head = temp\n",
    "    return prev\n"
   ]
  },
  {
   "cell_type": "code",
   "execution_count": null,
   "metadata": {},
   "outputs": [],
   "source": []
  },
  {
   "cell_type": "markdown",
   "metadata": {},
   "source": [
    "# 合并两个排序的链表\n",
    "\n",
    "输入两个单调递增的链表，输出两个链表合成后的链表，当然我们需要合成后的链表满足单调不减规则。\n",
    "\n",
    "21. Merge Two Sorted Lists\n",
    "\n",
    "https://leetcode.com/problems/merge-two-sorted-lists/\n",
    "\n",
    "\n"
   ]
  },
  {
   "cell_type": "code",
   "execution_count": 37,
   "metadata": {},
   "outputs": [],
   "source": [
    "class ListNode(object):\n",
    "    def __init__(self, x=0, next=None):\n",
    "        self.val = x\n",
    "        self.next = next\n",
    "        \n",
    "        \n",
    "def merge_two_lists(l1, l2):\n",
    "    if not l1: return l2\n",
    "    if not l2: return l1\n",
    "    head = ListNode(0)\n",
    "    cur = head\n",
    "    while l1 and l2:\n",
    "        if l1.val < l2.val:\n",
    "            cur.next = l1\n",
    "            l1 = l1.next\n",
    "        else:\n",
    "            cur.next = l2\n",
    "            l2 = l2.next\n",
    "        cur = cur.next\n",
    "    cur.next = l1 if l1 else l2\n",
    "    return head.next\n"
   ]
  },
  {
   "cell_type": "code",
   "execution_count": null,
   "metadata": {},
   "outputs": [],
   "source": []
  },
  {
   "cell_type": "markdown",
   "metadata": {},
   "source": [
    "# 树的子结构\n",
    "\n",
    "输入两棵二叉树A，B，判断B是不是A的子结构。（ps：我们约定空树不是任意一个树的子结构）\n",
    "\n",
    "572. Subtree of Another Tree\n",
    "\n",
    "https://leetcode.com/problems/subtree-of-another-tree/\n",
    "\n"
   ]
  },
  {
   "cell_type": "code",
   "execution_count": 38,
   "metadata": {},
   "outputs": [],
   "source": [
    "class TreeNode:\n",
    "    def __init__(self, val=0, left=None, right=None):\n",
    "        self.val = 0\n",
    "        self.left = left\n",
    "        self.right = right\n",
    "\n",
    "def is_subtree(root1, root2):\n",
    "    if not root1 and not root2:\n",
    "        return False\n",
    "    if not root1 or not root2:\n",
    "        return True\n",
    "    res = False\n",
    "    if root1.val == root2.val:\n",
    "        res = is_subtree(root1.left, root2.left) and is_subtree(root2.right, root2.right)\n",
    "    return res or is_subtree(root1.left, root2) or is_subtree(root1.right, root2) \n"
   ]
  },
  {
   "cell_type": "code",
   "execution_count": null,
   "metadata": {},
   "outputs": [],
   "source": []
  },
  {
   "cell_type": "markdown",
   "metadata": {},
   "source": [
    "# 二叉树的镜像\n",
    "\n",
    "操作给定的二叉树，将其变换为源二叉树的镜像。\n",
    "\n",
    "源二叉树 \n",
    "            8\n",
    "           /  \\\n",
    "          6   10\n",
    "         / \\  / \\\n",
    "        5  7 9 11\n",
    "\n",
    "镜像二叉树\n",
    "            8\n",
    "           /  \\\n",
    "          10   6\n",
    "         / \\  / \\\n",
    "        11 9 7   5\n",
    "        \n",
    "226. Invert Binary Tree\n",
    "\n",
    "https://leetcode.com/problems/invert-binary-tree/\n",
    "\n"
   ]
  },
  {
   "cell_type": "code",
   "execution_count": 39,
   "metadata": {},
   "outputs": [],
   "source": [
    "def mirror(root):\n",
    "    if not root:\n",
    "        return\n",
    "    mirror(root.left)\n",
    "    mirror(root.right)\n",
    "    root.left, root.right = root.right, root.left\n",
    "    return\n"
   ]
  },
  {
   "cell_type": "code",
   "execution_count": null,
   "metadata": {},
   "outputs": [],
   "source": []
  },
  {
   "cell_type": "markdown",
   "metadata": {},
   "source": [
    "# 顺时针打印矩阵\n",
    "\n",
    "\n",
    "输入一个矩阵，按照从外向里以顺时针的顺序依次打印出每一个数字，例如，如果输入如下矩阵：\n",
    "\n",
    "1    2    3    4 \n",
    "5    6    7    8 \n",
    "9   10   11   12 \n",
    "13  14   15   16 \n",
    "\n",
    "则依次打印出数字\n",
    "\n",
    "1,2,3,4,8,12,16,15,14,13,9,5,6,7,11,10.\n",
    "\n",
    "\n"
   ]
  },
  {
   "cell_type": "code",
   "execution_count": 40,
   "metadata": {},
   "outputs": [],
   "source": [
    "def printMatrix(matrix):\n",
    "    out = []\n",
    "    while matrix:\n",
    "        # 上边界即为数组的第一个子数组\n",
    "        out += matrix.pop(0)\n",
    "        # 如果这里仅判断if matrix，那么对于测试数组例[[1],[2],[3]]，循环后变成了[[],[]]，matrix不为空\n",
    "        if matrix and matrix[0]:\n",
    "            # 右边界即为数组每一项的最后一个元素\n",
    "            for row in matrix:\n",
    "                out.append(row.pop())\n",
    "        # 下边界即为数组最后一个子数组的逆序排列\n",
    "        if matrix:\n",
    "            out += matrix.pop()[::-1]\n",
    "        if matrix and matrix[0]:\n",
    "            # 左边界即为数组从尾到头的每一项子数组的第一个元素\n",
    "            for row in matrix[::-1]:\n",
    "                out.append(row.pop())\n",
    "    return out\n"
   ]
  },
  {
   "cell_type": "code",
   "execution_count": null,
   "metadata": {},
   "outputs": [],
   "source": []
  },
  {
   "cell_type": "markdown",
   "metadata": {},
   "source": [
    "# 包含min函数的栈\n",
    "\n",
    "定义栈的数据结构，请在该类型中实现一个能够得到栈最小元素的min函数。\n",
    "\n",
    "155. Min Stack\n",
    "\n",
    "https://leetcode.com/problems/min-stack/\n",
    "\n",
    "\n"
   ]
  },
  {
   "cell_type": "code",
   "execution_count": 41,
   "metadata": {},
   "outputs": [],
   "source": [
    "class MyStack:\n",
    "    \n",
    "    def __init__(self):\n",
    "        self.stack = []\n",
    "        self.min_stack = []\n",
    "        \n",
    "    def push(self, val):\n",
    "        self.stack.append(val)\n",
    "        if self.min_stack and self.min_stack[-1] < val:\n",
    "            self.min_stack.append(self.min_stack[-1])\n",
    "        else:\n",
    "            self.min_stack.append(val)\n",
    "        return\n",
    "    \n",
    "    def pop(self):\n",
    "        if self.stack:\n",
    "            self.min_stack.pop()\n",
    "            return self.stack.pop()\n",
    "        return None\n",
    "    \n",
    "    def min(self):\n",
    "        return self.min_stack[-1] if self.min_stack else None\n",
    "    "
   ]
  },
  {
   "cell_type": "code",
   "execution_count": null,
   "metadata": {},
   "outputs": [],
   "source": []
  },
  {
   "cell_type": "markdown",
   "metadata": {},
   "source": [
    "# 从上往下打印二叉树\n",
    "\n",
    "从上往下打印出二叉树的每个节点，同层节点从左至右打印。\n",
    "\n",
    "102. Binary Tree Level Order Traversal\n",
    "\n",
    "https://leetcode.com/problems/binary-tree-level-order-traversal/\n",
    "\n"
   ]
  },
  {
   "cell_type": "code",
   "execution_count": 42,
   "metadata": {},
   "outputs": [],
   "source": [
    "from collections import deque\n",
    "\n",
    "def print_from_top_to_bottom(root):\n",
    "    if not root: return []\n",
    "    res = []\n",
    "    queue = deque([root])\n",
    "    while queue:\n",
    "        for i in range(len(queue)):\n",
    "            node = queue.popleft()\n",
    "            res.append(node.val)\n",
    "            if node.left: \n",
    "                queue.append(node.left)\n",
    "            if node.right:\n",
    "                queue.append(node.right)\n",
    "    return res\n",
    "                \n",
    "    \n",
    "    "
   ]
  },
  {
   "cell_type": "code",
   "execution_count": null,
   "metadata": {},
   "outputs": [],
   "source": []
  },
  {
   "cell_type": "markdown",
   "metadata": {},
   "source": [
    "# 二叉搜索树的后序遍历序列\n",
    "\n",
    "输入一个整数数组，判断该数组是不是某二叉搜索树的后序遍历的结果。如果是则输出Yes,否则输出No。假设输入的数组的任意两个数字都互不相同。\n",
    "\n",
    "我们都知道BST的中序遍历是有序的，后序遍历时，最后的节点是根节点。那么可以先找根节点，然后利用根节点的值，把数组分成两部分，前部分都比根节点小是左子树，后部分都比根节点大是右子树。然后再分别遍历左右子树即可。我做这个题的时候利用从左遍历找到第一个比根节点的大的位置划分左右节点，这样保证了左边部分都比根节点小，不能保证右边部分都比根节点大，所以对右边的部分进行了验证。另外题目中有个坑，题目认为，空树不是BST……所以新定义了函数进行递归，否则会更简单点。\n",
    "\n",
    "https://blog.csdn.net/fuxuemingzhu/article/details/79621107\n",
    "\n",
    "\n",
    "98. Validate Binary Search Tree\n",
    "\n",
    "https://leetcode.com/problems/validate-binary-search-tree/\n",
    "\n"
   ]
  },
  {
   "cell_type": "code",
   "execution_count": 44,
   "metadata": {},
   "outputs": [],
   "source": [
    "class Solution:\n",
    "    def VerifySquenceOfBST(self, nums):\n",
    "        if not nums:\n",
    "            return False\n",
    "        return self.verifyBST(nums)\n",
    "\n",
    "    def verifyBST(self, nums):\n",
    "        if not nums:\n",
    "            return True\n",
    "        root = nums.pop()\n",
    "        index = self.findIndex(nums, root)\n",
    "        if self.verifyRight(nums[index:], root):\n",
    "            left = nums[:index]\n",
    "            right = nums[index:]\n",
    "            return self.verifyBST(left) and self.verifyBST(right)\n",
    "        return False\n",
    "\n",
    "    def verifyRight(self, nums, target):\n",
    "        if not nums:\n",
    "            return True\n",
    "        return min(nums) > target\n",
    "\n",
    "    def findIndex(self, nums, target):\n",
    "        for i, num in enumerate(nums):\n",
    "            if num > target:\n",
    "                return i\n",
    "        return len(nums)\n",
    "    "
   ]
  },
  {
   "cell_type": "code",
   "execution_count": 20,
   "metadata": {},
   "outputs": [],
   "source": [
    "# Definition for a binary tree node.\n",
    "class TreeNode:\n",
    "    def __init__(self, val=0, left=None, right=None):\n",
    "        self.val = val\n",
    "        self.left = left\n",
    "        self.right = right\n",
    "\n",
    "class Solution:\n",
    "    def isValidBST(self, root: Optional[TreeNode]) -> bool:\n",
    "        output = []\n",
    "        self._inorder(root, output)\n",
    "        for i in range(1, len(output)):\n",
    "            if output[i-1] >= output[i]:\n",
    "                return False\n",
    "\n",
    "        return True\n",
    "    \n",
    "    def _inorder(self, root: Optional[TreeNode], output: List[int]):\n",
    "        if not root:\n",
    "            return\n",
    "        self._inorder(root.left, output)\n",
    "        output.append(root.val)\n",
    "        self._inorder(root.right, output)\n",
    "        return\n",
    "    \n",
    "    "
   ]
  },
  {
   "cell_type": "code",
   "execution_count": 21,
   "metadata": {},
   "outputs": [],
   "source": [
    "# Definition for a binary tree node.\n",
    "class TreeNode:\n",
    "    def __init__(self, val=0, left=None, right=None):\n",
    "        self.val = val\n",
    "        self.left = left\n",
    "        self.right = right\n",
    "\n",
    "class Solution:\n",
    "    def isValidBST(self, root: TreeNode) -> bool:\n",
    "        return self.isValid(root, float('-inf'), float('inf'))\n",
    "    \n",
    "    def isValid(self, root, min, max):\n",
    "        if not root:\n",
    "            return True\n",
    "        if root.val >= max or root.val <= min:\n",
    "            return False\n",
    "        return self.isValid(root.left, min, root.val) and self.isValid(root.right, root.val, max)\n",
    "    \n",
    "    "
   ]
  },
  {
   "cell_type": "code",
   "execution_count": null,
   "metadata": {},
   "outputs": [],
   "source": []
  },
  {
   "cell_type": "markdown",
   "metadata": {},
   "source": [
    "# 二叉树中和为某一值的路径\n",
    "\n",
    "输入一颗二叉树和一个整数，打印出二叉树中结点值的和为输入整数的所有路径。路径定义为从树的根结点开始往下一直到叶结点所经过的结点形成一条路径。\n",
    "\n",
    "112. Path Sum\n",
    "\n",
    "https://leetcode.com/problems/path-sum/\n"
   ]
  },
  {
   "cell_type": "code",
   "execution_count": 45,
   "metadata": {},
   "outputs": [],
   "source": [
    "def find_path(root, target):\n",
    "    if not root: return []\n",
    "    res = []\n",
    "    dfs(root, res, [root.val], target)\n",
    "    return res\n",
    "\n",
    "def dfs(root, res, path, target):\n",
    "    if not root.left and not root.right and sum(path) == target:\n",
    "        res.append(path)\n",
    "    if root.left:\n",
    "        dfs(root.left, res, path + root.left.val, target)\n",
    "    if root.right:\n",
    "        dfs(root.right, res, path + root.right.val, target)\n",
    "    return\n"
   ]
  },
  {
   "cell_type": "code",
   "execution_count": 22,
   "metadata": {},
   "outputs": [],
   "source": [
    "# Definition for a binary tree node.\n",
    "class TreeNode:\n",
    "    def __init__(self, val=0, left=None, right=None):\n",
    "        self.val = val\n",
    "        self.left = left\n",
    "        self.right = right\n",
    "\n",
    "\n",
    "class Solution:\n",
    "    def hasPathSum(self, root: TreeNode, sum: int) -> bool:\n",
    "        if not root:\n",
    "            return False\n",
    "        return self.dfs(root, root.val, sum)\n",
    "    \n",
    "    def dfs(self, node, cur_sum, target):\n",
    "        if not node.left and not node.right:\n",
    "            return cur_sum == target\n",
    "        left = False\n",
    "        if node.left:\n",
    "            left = self.dfs(node.left, cur_sum + node.left.val, target)\n",
    "        if left:\n",
    "            return True\n",
    "        if node.right:\n",
    "            return self.dfs(node.right, cur_sum + node.right.val, target)\n",
    "        return False\n",
    "    \n",
    "    "
   ]
  },
  {
   "cell_type": "code",
   "execution_count": null,
   "metadata": {},
   "outputs": [],
   "source": []
  },
  {
   "cell_type": "markdown",
   "metadata": {},
   "source": [
    "113. Path Sum II\n",
    "\n",
    "https://leetcode.com/problems/path-sum-ii/\n",
    "\n",
    "Given the root of a binary tree and an integer targetSum, return all root-to-leaf paths where the sum of the node values in the path equals targetSum. Each path should be returned as a list of the node values, not node references.\n",
    "\n",
    "A root-to-leaf path is a path starting from the root and ending at any leaf node. A leaf is a node with no children.\n",
    "\n",
    "\n",
    "\n"
   ]
  },
  {
   "cell_type": "code",
   "execution_count": 23,
   "metadata": {},
   "outputs": [],
   "source": [
    "# Definition for a binary tree node.\n",
    "class TreeNode:\n",
    "    def __init__(self, val=0, left=None, right=None):\n",
    "        self.val = val\n",
    "        self.left = left\n",
    "        self.right = right\n",
    "\n",
    "\n",
    "class Solution:\n",
    "    def pathSum(self, root: TreeNode, target: int) -> List[List[int]]:\n",
    "        if not root:\n",
    "            return []\n",
    "        res = []\n",
    "        self.dfs(root, [], res, target)\n",
    "        return res\n",
    "    \n",
    "    \n",
    "    def dfs(self, root, path, res, target):\n",
    "        if not root.left and not root.right:\n",
    "            if sum(path) + root.val == target:\n",
    "                res.append(path+[root.val])\n",
    "            else:\n",
    "                return\n",
    "        if root.left:\n",
    "            self.dfs(root.left, path+[root.val], res, target)\n",
    "        if root.right:\n",
    "            self.dfs(root.right, path+[root.val], res, target)\n",
    "        return\n",
    "    \n",
    "    "
   ]
  },
  {
   "cell_type": "code",
   "execution_count": null,
   "metadata": {},
   "outputs": [],
   "source": []
  },
  {
   "cell_type": "markdown",
   "metadata": {},
   "source": [
    "437. Path Sum III\n",
    "\n",
    "https://leetcode.com/problems/path-sum-iii/\n",
    "\n",
    "Given the root of a binary tree and an integer targetSum, return the number of paths where the sum of the values along the path equals targetSum.\n",
    "\n",
    "The path does not need to start or end at the root or a leaf, but it must go downwards (i.e., traveling only from parent nodes to child nodes).\n",
    "\n",
    "Constraints:\n",
    "\n",
    "- The number of nodes in the tree is in the range [0, 1000].\n",
    "- -109 <= Node.val <= 109\n",
    "- -1000 <= targetSum <= 1000\n",
    "\n",
    "\n"
   ]
  },
  {
   "cell_type": "code",
   "execution_count": null,
   "metadata": {},
   "outputs": [],
   "source": [
    "# Definition for a binary tree node.\n",
    "class TreeNode:\n",
    "    def __init__(self, val=0, left=None, right=None):\n",
    "        self.val = val\n",
    "        self.left = left\n",
    "        self.right = right\n",
    "\n",
    "\n",
    "class Solution:\n",
    "    def pathSum(self, root: TreeNode, target: int) -> int:\n",
    "        if not root:\n",
    "            return 0\n",
    "        self.results = 0\n",
    "        self.dfs(root, [], target)\n",
    "        return self.results\n",
    "    \n",
    "    def dfs(self, node, path, target):\n",
    "        if not node:\n",
    "            return\n",
    "        nums = path[:] + [node.val]\n",
    "        n = len(nums)\n",
    "        cur_sum = 0\n",
    "        for i in range(n-1, -1, -1):\n",
    "            cur_sum += nums[i]\n",
    "            if cur_sum == target:\n",
    "                self.results += 1\n",
    "        self.dfs(node.left, path+[node.val], target)\n",
    "        self.dfs(node.right, path+[node.val], target)\n",
    "        return \n",
    "    \n",
    "    "
   ]
  },
  {
   "cell_type": "code",
   "execution_count": null,
   "metadata": {},
   "outputs": [],
   "source": []
  },
  {
   "cell_type": "code",
   "execution_count": null,
   "metadata": {},
   "outputs": [],
   "source": []
  },
  {
   "cell_type": "code",
   "execution_count": null,
   "metadata": {},
   "outputs": [],
   "source": []
  },
  {
   "cell_type": "code",
   "execution_count": null,
   "metadata": {},
   "outputs": [],
   "source": []
  },
  {
   "cell_type": "markdown",
   "metadata": {},
   "source": [
    "# 复杂链表的复制\n",
    "\n",
    "输入一个复杂链表（每个节点中有节点值，以及两个指针，一个指向下一个节点，另一个特殊指针指向任意一个节点），返回结果为复制后复杂链表的head。（注意，输出结果中请不要返回参数中的节点引用，否则判题程序会直接返回空）\n",
    "\n",
    "\n",
    "138. Copy List with Random Pointer\n",
    "\n",
    "https://leetcode.com/submissions/detail/427105289/\n",
    "\n"
   ]
  },
  {
   "cell_type": "code",
   "execution_count": 47,
   "metadata": {},
   "outputs": [],
   "source": [
    "class Node:\n",
    "    def __init__(self, next=None, random=None):\n",
    "        self.next = next\n",
    "        self.random = next\n",
    "\n",
    "\n",
    "class Solution(object):\n",
    "    def copyRandomList(self, head):\n",
    "        \"\"\"\n",
    "        :type head: Node\n",
    "        :rtype: Node\n",
    "        \"\"\"\n",
    "        if not head:\n",
    "            return None\n",
    "        dic = {}\n",
    "        prior = Node(0)\n",
    "        temp_1 = prior\n",
    "        temp_2 = head\n",
    "        while head:  # 构建next部分\n",
    "            node = Node(head.val)\n",
    "            dic[head] = node\n",
    "            prior.next = node\n",
    "            prior = node\n",
    "            head = head.next\n",
    "\n",
    "        prior.next = None\n",
    "        temp_1 = temp_1.next\n",
    "        result = temp_1\n",
    "        head = temp_2\n",
    "        while head:  # 构建random部分\n",
    "            if not head.random:\n",
    "                dic[head].random = None\n",
    "            else:\n",
    "                dic[head].random = dic[head.random]\n",
    "            head = head.next\n",
    "\n",
    "        return temp_1\n",
    "\n",
    "    "
   ]
  },
  {
   "cell_type": "code",
   "execution_count": 1,
   "metadata": {},
   "outputs": [],
   "source": [
    "\n",
    "# Definition for a Node.\n",
    "class Node:\n",
    "    def __init__(self, x: int, next: 'Node' = None, random: 'Node' = None):\n",
    "        self.val = int(x)\n",
    "        self.next = next\n",
    "        self.random = random\n",
    "\n",
    "\n",
    "class Solution:\n",
    "    def copyRandomList(self, head: 'Node') -> 'Node':\n",
    "        if not head: return None\n",
    "        cur = head\n",
    "        nodes = {}\n",
    "        while cur:\n",
    "            node = Node(cur.val)\n",
    "            nodes[cur] = node\n",
    "            cur = cur.next \n",
    "        cur = head \n",
    "        while cur:\n",
    "            if cur.next:\n",
    "                nodes[cur].next = nodes[cur.next]\n",
    "            if cur.random:\n",
    "                nodes[cur].random = nodes[cur.random]\n",
    "            cur = cur.next\n",
    "        return nodes[head]\n",
    "    \n",
    "    "
   ]
  },
  {
   "cell_type": "code",
   "execution_count": null,
   "metadata": {},
   "outputs": [],
   "source": []
  },
  {
   "cell_type": "markdown",
   "metadata": {},
   "source": [
    "# 二叉搜索树与双向链表\n",
    "\n",
    "输入一棵二叉搜索树，将该二叉搜索树转换成一个排序的双向链表。要求不能创建任何新的结点，只能调整树中结点指针的指向。\n",
    "\n",
    "\n",
    "使用了一个指针来保存链表的最后的节点。每次中序遍历到了根节点，就把根节点添加到了中序遍历的链表的末尾。这样遍历结束就能得到了一个中序有序的链表。最后再利用末尾指针逆序找到头结点即可。\n",
    "\n",
    "https://leetcode-cn.com/problems/er-cha-sou-suo-shu-yu-shuang-xiang-lian-biao-lcof/\n",
    "\n"
   ]
  },
  {
   "cell_type": "code",
   "execution_count": 48,
   "metadata": {},
   "outputs": [],
   "source": [
    "class Solution:\n",
    "    def treeToDoublyList(self, root: 'Node') -> 'Node':\n",
    "        def dfs(cur):\n",
    "            if not cur:\n",
    "                return\n",
    "            dfs(cur.left)  # 递归左子树\n",
    "            if self.pre:  # 修改节点引用\n",
    "                self.pre.right, cur.left = cur, self.pre\n",
    "            else:  # 记录头节点\n",
    "                self.head = cur\n",
    "            self.pre = cur  # 保存 cur\n",
    "            dfs(cur.right)  # 递归右子树\n",
    "\n",
    "        if not root:\n",
    "            return\n",
    "        self.pre = None\n",
    "        dfs(root)\n",
    "        self.head.left, self.pre.right = self.pre, self.head\n",
    "        return self.head\n",
    "    \n",
    "    "
   ]
  },
  {
   "cell_type": "code",
   "execution_count": null,
   "metadata": {},
   "outputs": [],
   "source": []
  },
  {
   "cell_type": "markdown",
   "metadata": {},
   "source": [
    "# 数组中出现次数超过一半的数字\n",
    "\n",
    "数组中有一个数字出现的次数超过数组长度的一半，请找出这个数字。例如输入一个长度为9的数组{1,2,3,2,2,2,5,4,2}。由于数字2在数组中出现了5次，超过数组长度的一半，因此输出2。如果不存在则输出0。\n",
    "\n"
   ]
  },
  {
   "cell_type": "code",
   "execution_count": 49,
   "metadata": {},
   "outputs": [],
   "source": [
    "def get_more_than_half_num(nums):\n",
    "    dict_num = {}\n",
    "    n = len(nums)\n",
    "    for num in nums:\n",
    "        dict_num[num] = dict_num[num] + 1 if num in dict_num[num] else 1\n",
    "        if dict_num[num] > n / 2:\n",
    "            return num\n",
    "    return 0\n"
   ]
  },
  {
   "cell_type": "code",
   "execution_count": null,
   "metadata": {},
   "outputs": [],
   "source": []
  },
  {
   "cell_type": "markdown",
   "metadata": {},
   "source": [
    "# 最小的K个数\n",
    "\n",
    "输入n个整数，找出其中最小的K个数。例如输入4,5,1,6,2,7,3,8这8个数字，则最小的4个数字是1,2,3,4,。\n",
    "\n",
    "\n",
    "这个是面试被问过的题目，做法就是使用一个堆来做，特别适合当数据很大的时候。这个其实相当于一个信息检索的过程。据说百度喜欢问此类问题。\n",
    "\n",
    "heapq.nlargest(n, iterable, key=None) 返回最大的n个元素（Top-K问题）\n",
    "\n",
    "heapq.nsmallest(n, iterable, key=None) 返回最小的n个元素（Top-K问题）\n"
   ]
  },
  {
   "cell_type": "code",
   "execution_count": 51,
   "metadata": {},
   "outputs": [],
   "source": [
    "import heapq\n",
    "\n",
    "def get_kth_smallest_num(in_nums, k):\n",
    "    if len(in_nums) < k:\n",
    "            return []\n",
    "    return heapq.nsmallest(k, in_nums)\n",
    "    "
   ]
  },
  {
   "cell_type": "code",
   "execution_count": null,
   "metadata": {},
   "outputs": [],
   "source": []
  },
  {
   "cell_type": "markdown",
   "metadata": {},
   "source": [
    "# 连续子数组的最大和\n",
    "\n",
    "当累加的子数组和小于0的时候，放弃前面的子数组。总的最大值不用考虑那么多，直接每次都求最大就行。\n"
   ]
  },
  {
   "cell_type": "code",
   "execution_count": 53,
   "metadata": {},
   "outputs": [],
   "source": [
    "def find_max_sum_subarray(nums):\n",
    "    if not nums:\n",
    "        return 0\n",
    "    cur_sum = 0\n",
    "    max_sum = float('-inf')\n",
    "    for num in nums:\n",
    "        cur_sum += num\n",
    "        max_sum = max(max_sum, cur_sum)\n",
    "        if cur_sum < 0:\n",
    "            cur_sum = 0\n",
    "    return max_sum\n"
   ]
  },
  {
   "cell_type": "code",
   "execution_count": 54,
   "metadata": {},
   "outputs": [
    {
     "data": {
      "text/plain": [
       "8"
      ]
     },
     "execution_count": 54,
     "metadata": {},
     "output_type": "execute_result"
    }
   ],
   "source": [
    "find_max_sum_subarray([6,-3,-2,7,-15,1,2,2])\n"
   ]
  },
  {
   "cell_type": "code",
   "execution_count": null,
   "metadata": {},
   "outputs": [],
   "source": []
  },
  {
   "cell_type": "markdown",
   "metadata": {},
   "source": [
    "# 把数组排成最小的数\n",
    "\n",
    "输入一个正整数数组，把数组里所有数字拼接起来排成一个数，打印能拼接出的所有数字中最小的一个。例如输入数组{3，32，321}，则打印出这三个数字能排成的最小数字为321323。\n",
    "\n",
    "\n",
    "见过的题，再做就知道怎么做了，这个题的做法很巧妙，把要比较的两个数字进行不同顺序的前后拼接，进行大小比较。剑指Offer上有个证明，证明了按拼接次序进行排序得到的数字串变成str后数字是最小的。\n",
    "\n"
   ]
  },
  {
   "cell_type": "code",
   "execution_count": 1,
   "metadata": {},
   "outputs": [],
   "source": [
    "def compare(a, b):\n",
    "    return cmp(str(a)+str(b), str(b)+str(a))\n",
    "\n",
    "def get_min_um(nums):\n",
    "    if not nums:\n",
    "        return \"\"\n",
    "    sorted_num = sorted(nums, cmp=compare)\n",
    "    return int(''.join(str(s) for s in sorted_num))\n",
    "\n"
   ]
  },
  {
   "cell_type": "code",
   "execution_count": null,
   "metadata": {},
   "outputs": [],
   "source": []
  },
  {
   "cell_type": "markdown",
   "metadata": {},
   "source": [
    "# 丑数\n",
    "\n",
    "把只包含因子2、3和5的数称作丑数（Ugly Number）。例如6、8都是丑数，但14不是，因为它包含因子7。 习惯上我们把1当做是第一个丑数。求按从小到大的顺序的第N个丑数。\n",
    "\n",
    "比较巧妙的方式是使用空间换时间。我们使用一个数组保存每个丑数，然后生成下一个丑数。\n",
    "\n",
    "使用了3个指针，分别指向最后一个进行×2，×3，×5操作后会大于当前最大的丑数的位置。那么需要找到下一个丑数的时候，一定会是这三个指针指向的丑数进行对应操作的结果之一。因此，每次都更新三个指针指向下一次操作就会变成最大值的位置。就能一直生成下一丑数。\n",
    "\n"
   ]
  },
  {
   "cell_type": "code",
   "execution_count": 2,
   "metadata": {},
   "outputs": [],
   "source": [
    "# https://leetcode.com/problems/ugly-number-ii/\n",
    "\n",
    "class Solution:\n",
    "    def nthUglyNumber(self, n: int) -> int:\n",
    "        if n < 0:\n",
    "            return 0\n",
    "        dp = [1] * n\n",
    "        index2, index3, index5 = 0, 0, 0\n",
    "        for i in range(1, n):\n",
    "            dp[i] = min(2 * dp[index2], 3 * dp[index3], 5 * dp[index5])\n",
    "            if dp[i] == 2 * dp[index2]:\n",
    "                index2 += 1\n",
    "            if dp[i] == 3 * dp[index3]:\n",
    "                index3 += 1\n",
    "            if dp[i] == 5 * dp[index5]:\n",
    "                index5 += 1\n",
    "        return dp[-1]\n",
    "    \n",
    "    "
   ]
  },
  {
   "cell_type": "code",
   "execution_count": 57,
   "metadata": {},
   "outputs": [],
   "source": [
    "# https://leetcode.com/problems/ugly-number/\n",
    "\n",
    "class Solution:\n",
    "    def isUgly(self, num: int) -> bool:\n",
    "        if num == 0:\n",
    "            return False\n",
    "        prime_factors = [2, 3, 5]\n",
    "        for prime_factor in prime_factors:\n",
    "            while num % prime_factor == 0:\n",
    "                num //= prime_factor\n",
    "        return num == 1\n",
    "    "
   ]
  },
  {
   "cell_type": "code",
   "execution_count": 4,
   "metadata": {},
   "outputs": [],
   "source": [
    "class Solution:\n",
    "    def isUgly(self, n: int) -> bool:\n",
    "        if n <= 0:\n",
    "            return False\n",
    "        while n % 2 == 0:\n",
    "            n //= 2\n",
    "        while n % 3 == 0:\n",
    "            n //= 3\n",
    "        while n % 5 == 0:\n",
    "            n //= 5\n",
    "        return n == 1\n",
    "    "
   ]
  },
  {
   "cell_type": "code",
   "execution_count": null,
   "metadata": {},
   "outputs": [],
   "source": []
  },
  {
   "cell_type": "code",
   "execution_count": null,
   "metadata": {},
   "outputs": [],
   "source": [
    "def GetUglyNumber_Solution(self, index):\n",
    "        # write code here\n",
    "        if index < 1:\n",
    "            return 0\n",
    "        res = [1]\n",
    "        t2 = t3 = t5 = 0\n",
    "        nextNum = 1\n",
    "        while nextNum < index:\n",
    "            minNum = min(res[t2] * 2, res[t3] * 3, res[t5] * 5)\n",
    "            res.append(minNum)\n",
    "            if res[t2] * 2 <= minNum:\n",
    "                t2 += 1\n",
    "            if res[t3] * 3 <= minNum:\n",
    "                t3 += 1\n",
    "            if res[t5] * 5 <= minNum:\n",
    "                t5 += 1\n",
    "            nextNum += 1\n",
    "        return res[nextNum - 1]\n",
    "    "
   ]
  },
  {
   "cell_type": "code",
   "execution_count": null,
   "metadata": {},
   "outputs": [],
   "source": []
  },
  {
   "cell_type": "markdown",
   "metadata": {},
   "source": [
    "# 第一个只出现一次的字符\n",
    "\n",
    "在一个字符串(1<=字符串长度<=10000，全部由字母组成)中找到第一个只出现一次的字符,并返回它的位置\n",
    "\n"
   ]
  },
  {
   "cell_type": "code",
   "execution_count": 59,
   "metadata": {},
   "outputs": [],
   "source": [
    "from collections import Counter\n",
    "\n",
    "def find_first_no_repeating_char(s):\n",
    "    counter = Counter(s)\n",
    "    for i, char in enumerate(s):\n",
    "        if counter[char] == 1:\n",
    "            return i\n",
    "    return -1\n"
   ]
  },
  {
   "cell_type": "code",
   "execution_count": null,
   "metadata": {},
   "outputs": [],
   "source": []
  },
  {
   "cell_type": "markdown",
   "metadata": {},
   "source": [
    "# 两个链表的第一个公共节点\n",
    "\n",
    "输入两个链表，找出它们的第一个公共结点\n",
    "\n"
   ]
  },
  {
   "cell_type": "code",
   "execution_count": 60,
   "metadata": {},
   "outputs": [],
   "source": [
    "def find_first_common_node(list1, list2):\n",
    "    stack1, stack2 = [], []\n",
    "    while list1:\n",
    "        stack1.append(list1)\n",
    "        list1 = list1.next\n",
    "    while list2:\n",
    "        stack2.append(list2)\n",
    "        list2 = list2.next\n",
    "    pre = None\n",
    "    while stack1 and stack2 and stack1[-1] == stack2[-1]:\n",
    "        pre = stack1.pop()\n",
    "        stack2.pop()\n",
    "    return pre\n"
   ]
  },
  {
   "cell_type": "code",
   "execution_count": null,
   "metadata": {},
   "outputs": [],
   "source": []
  },
  {
   "cell_type": "markdown",
   "metadata": {},
   "source": [
    "# 数字在排序数组中出现的次数\n",
    "\n",
    "统计一个数字在排序数组中出现的次数。\n",
    "\n",
    "\n",
    "使用二分法分别找到数组中第一个和最后一个出现的值的坐标，然后相减\n",
    "\n",
    "\n"
   ]
  },
  {
   "cell_type": "code",
   "execution_count": 113,
   "metadata": {},
   "outputs": [],
   "source": [
    "def get_k_counts(nums, k):\n",
    "    first = get_first_k(nums, k)\n",
    "    last = get_last_k(nums, k)\n",
    "    if first < 0 and last < 0:\n",
    "        return 0\n",
    "    if first < 0 or last < 0:\n",
    "        return 1\n",
    "    return last - first + 1\n",
    "\n",
    "\n",
    "def get_first_k(nums, k):\n",
    "    left, right = 0, len(nums) - 1\n",
    "    while left <= right:\n",
    "        mid = (left + right) / 2\n",
    "        if nums[mid] < k:\n",
    "            if mid + 1 < len(nums) and nums[mid+1] == k:\n",
    "                return mid + 1\n",
    "            left = mid + 1\n",
    "        elif nums[mid] == k:\n",
    "            if mid - 1 < 0 or (mid - 1 >= 0 and nums[mid-1] < k):\n",
    "                return mid\n",
    "            right = mid - 1\n",
    "        else:\n",
    "            right = mid - 1\n",
    "    return -1\n",
    "\n",
    "\n",
    "def get_last_k(nums, k):\n",
    "    left, right = 0, len(nums) - 1\n",
    "    while left <= right:\n",
    "        mid = (left + right) / 2\n",
    "        if nums[mid] < k:\n",
    "            left = mid + 1\n",
    "        elif nums[mid] == k:\n",
    "            if mid + 1 == len(nums) or (mid + 1 < len(nums) and nums[mid+1] > k):\n",
    "                return mid\n",
    "            left = mid + 1\n",
    "        else:\n",
    "            if mid - 1 >= 0 and nums[mid-1] == k:\n",
    "                return mid - 1\n",
    "            right = mid - 1\n",
    "    return -1\n",
    "    \n",
    "    "
   ]
  },
  {
   "cell_type": "code",
   "execution_count": null,
   "metadata": {},
   "outputs": [],
   "source": []
  },
  {
   "cell_type": "markdown",
   "metadata": {},
   "source": [
    "# 二叉树的深度\n",
    "\n",
    "输入一棵二叉树，求该树的深度。从根结点到叶结点依次经过的结点（含根、叶结点）形成树的一条路径，最长路径的长度为树的深度。\n",
    "\n",
    "\n",
    "找到左右子树最大深度+1即可，递归的终止条件是空节点的深度是0。\n"
   ]
  },
  {
   "cell_type": "code",
   "execution_count": 61,
   "metadata": {},
   "outputs": [],
   "source": [
    "def get_tree_depth(root):\n",
    "    if not root:\n",
    "        return 0\n",
    "    left_depth = get_tree_depth(root.left)\n",
    "    right_depth = get_tree_depth(root.right)\n",
    "    return max(left_depth, right_depth) + 1\n"
   ]
  },
  {
   "cell_type": "code",
   "execution_count": null,
   "metadata": {},
   "outputs": [],
   "source": []
  },
  {
   "cell_type": "markdown",
   "metadata": {},
   "source": [
    "# 平衡二叉树\n",
    "\n",
    "输入一棵二叉树，判断该二叉树是否是平衡二叉树。\n",
    "\n",
    "\n",
    "平衡二叉树的定义是任何节点的左右子树高度差都不超过1的二叉树。\n",
    "\n",
    "\n"
   ]
  },
  {
   "cell_type": "code",
   "execution_count": 62,
   "metadata": {},
   "outputs": [],
   "source": [
    "def is_balanced_tree(root):\n",
    "    left = get_tree_depth(root.left)\n",
    "    right = get_tree_depth(root.right)\n",
    "    if abs(left - right) > 1:\n",
    "        return False\n",
    "    return is_balanced_tree(root.left) and is_balanced_tree(root.right)\n",
    "    \n",
    "    "
   ]
  },
  {
   "cell_type": "code",
   "execution_count": null,
   "metadata": {},
   "outputs": [],
   "source": []
  },
  {
   "cell_type": "markdown",
   "metadata": {},
   "source": [
    "# 数组中只出现一次的数字\n",
    "\n",
    "一个整型数组里除了两个数字之外，其他的数字都出现了两次。请写程序找出这两个只出现一次的数字。\n",
    "\n",
    "按位异或，在得到的值中找到二进制最后一个1，然后把数组按照该位是0还是1分为两组\n"
   ]
  },
  {
   "cell_type": "code",
   "execution_count": 63,
   "metadata": {},
   "outputs": [],
   "source": [
    "def FindNumsAppearOnce(array):\n",
    "    xor = 0\n",
    "    for i in array:\n",
    "        xor ^= i\n",
    "        print(xor)\n",
    "    num1, num2 = 0, 0\n",
    "    mask = 1\n",
    "    while xor & mask == 0:\n",
    "        mask <<= 1\n",
    "    for num in array:\n",
    "        if num & mask == 0:\n",
    "            num1 ^= num\n",
    "        else:\n",
    "            num2 ^= num\n",
    "    return [num1, num2]\n"
   ]
  },
  {
   "cell_type": "code",
   "execution_count": null,
   "metadata": {},
   "outputs": [],
   "source": []
  },
  {
   "cell_type": "markdown",
   "metadata": {},
   "source": [
    "# 和为S的两个数字\n",
    "\n",
    "输入一个递增排序的数组和一个数字S，在数组中查找两个数，是的他们的和正好是S，如果有多对数字的和等于S，输出两个数的乘积最小的。\n",
    "\n",
    "输出描述:\n",
    "\n",
    "对应每个测试案例，输出两个数，小的先输出。\n",
    "\n"
   ]
  },
  {
   "cell_type": "code",
   "execution_count": 64,
   "metadata": {},
   "outputs": [],
   "source": [
    "def sum_to_s(nums, s):\n",
    "    left, right = 0, len(nums) - 1\n",
    "    while left < right:\n",
    "        if nums[left] + nums[right] == s:\n",
    "            return [nums[left], nums[right]]\n",
    "        elif nums[left] + nums[right] > s:\n",
    "            right -= 1\n",
    "        else:\n",
    "            left += 1\n",
    "    return None\n",
    "    \n",
    "    "
   ]
  },
  {
   "cell_type": "code",
   "execution_count": null,
   "metadata": {},
   "outputs": [],
   "source": []
  },
  {
   "cell_type": "markdown",
   "metadata": {},
   "source": [
    "# 和为S的连续正数序列\n",
    "\n",
    "输出所有和为S的连续正数序列。序列内按照从小至大的顺序，序列间按照开始数字从小到大的顺序\n",
    "\n"
   ]
  },
  {
   "cell_type": "code",
   "execution_count": 66,
   "metadata": {},
   "outputs": [],
   "source": [
    "def sum_to_s(s):\n",
    "    left, right = 1, 2\n",
    "    res = []\n",
    "    while left < s/2 + 1:\n",
    "        if sum(range(left, right+1)) == s:\n",
    "            res.append(range(left, right+1))\n",
    "        elif sum(range(left, right+1)) < s:\n",
    "            right += 1\n",
    "        else:\n",
    "            left += 1\n",
    "    return res\n"
   ]
  },
  {
   "cell_type": "code",
   "execution_count": null,
   "metadata": {},
   "outputs": [],
   "source": []
  },
  {
   "cell_type": "markdown",
   "metadata": {},
   "source": [
    "# 翻转单词顺序列\n",
    "\n",
    "\n",
    "牛客最近来了一个新员工Fish，每天早晨总是会拿着一本英文杂志，写些句子在本子上。同事Cat对Fish写的内容颇感兴趣，有一天他向Fish借来翻看，但却读不懂它的意思。例如，“student. a am I”。后来才意识到，这家伙原来把句子单词的顺序翻转了，正确的句子应该是“I am a student.”。Cat对一一的翻转这些单词顺序可不在行，你能帮助他么？\n",
    "\n",
    "解题方法\n",
    "\n",
    "\n",
    "当然可以用[::-1]搞定呀，但是题目肯定不是这个意思。\n",
    "\n",
    "正确的做法是，县翻转整个字符串， 然后翻转每个单词。用两个指针记录每个单词的开头和结尾的位置。遇到’ ‘说明单词的结尾，需要调节指针。\n",
    "\n",
    "另外注意的点是，字符串不能直接修改，需要转成list之后才能直接对每一位修改。\n",
    "\n",
    "\n",
    "\n"
   ]
  },
  {
   "cell_type": "code",
   "execution_count": 91,
   "metadata": {},
   "outputs": [],
   "source": [
    "def reverse(s, start, end):\n",
    "    while start < end:\n",
    "        s[start], s[end] = s[end], s[start]\n",
    "        start += 1\n",
    "        end -= 1\n",
    "    return\n",
    "\n",
    "\n",
    "def reverse_sentence(s):\n",
    "    if not s: return s\n",
    "    s_list = list(s)\n",
    "    reverse(s_list, 0, len(s)-1)\n",
    "    s_res = []\n",
    "    for word in ''.join(s_list).split():\n",
    "        word_list = list(word)\n",
    "        reverse(word_list, 0, len(word)-1)\n",
    "        s_res.append(''.join(word_list))\n",
    "    return ' '.join(s_res)\n",
    "    \n",
    "    \n",
    "    "
   ]
  },
  {
   "cell_type": "code",
   "execution_count": 92,
   "metadata": {},
   "outputs": [
    {
     "data": {
      "text/plain": [
       "'I am a student.'"
      ]
     },
     "execution_count": 92,
     "metadata": {},
     "output_type": "execute_result"
    }
   ],
   "source": [
    "reverse_sentence('student. a am I')\n"
   ]
  },
  {
   "cell_type": "code",
   "execution_count": 93,
   "metadata": {},
   "outputs": [
    {
     "data": {
      "text/plain": [
       "'I ma a .tneduts'"
      ]
     },
     "execution_count": 93,
     "metadata": {},
     "output_type": "execute_result"
    }
   ],
   "source": [
    "s = 'student. a am I'\n",
    "s[::-1]\n"
   ]
  },
  {
   "cell_type": "code",
   "execution_count": null,
   "metadata": {},
   "outputs": [],
   "source": []
  },
  {
   "cell_type": "markdown",
   "metadata": {},
   "source": [
    "# 左旋转字符串\n",
    "\n",
    "汇编语言中有一种移位指令叫做循环左移（ROL），现在有个简单的任务，就是用字符串模拟这个指令的运算结果。对于一个给定的字符序列S，请你把其循环左移K位后的序列输出。例如，字符序列S=”abcXYZdef”,要求输出循环左移3位后的结果，即“XYZdefabc”。是不是很简单？OK，搞定它！\n",
    "\n"
   ]
  },
  {
   "cell_type": "code",
   "execution_count": 94,
   "metadata": {},
   "outputs": [],
   "source": [
    "def rotate_string(s, n):\n",
    "    if not s:\n",
    "        return ''\n",
    "    n %= len(s)\n",
    "    return s[n:] + s[:n]\n",
    "    \n",
    "    "
   ]
  },
  {
   "cell_type": "code",
   "execution_count": null,
   "metadata": {},
   "outputs": [],
   "source": []
  },
  {
   "cell_type": "markdown",
   "metadata": {},
   "source": [
    "# 扑克牌顺子\n",
    "\n",
    "要求：从扑克牌中随机抽取5张牌，判断是不是顺子，大小王可以当任意值\n",
    "\n"
   ]
  },
  {
   "cell_type": "code",
   "execution_count": 95,
   "metadata": {},
   "outputs": [],
   "source": [
    "def is_continuous(nums):\n",
    "    if not nums: return False\n",
    "    nums.sort()\n",
    "    zeros = nums.count(0)\n",
    "    gaps = 0\n",
    "    left = zeros\n",
    "    right = left + 1\n",
    "    while right < len(nums):\n",
    "        if nums[left] == nums[right]:\n",
    "            return False\n",
    "        gaps += nums[right] - nums[left] - 1\n",
    "        left = right\n",
    "        right += 1\n",
    "    return gaps <= zeros\n",
    "    \n",
    "    "
   ]
  },
  {
   "cell_type": "code",
   "execution_count": null,
   "metadata": {},
   "outputs": [],
   "source": []
  },
  {
   "cell_type": "markdown",
   "metadata": {},
   "source": [
    "# 孩子们的游戏(圆圈中最后剩下的数)\n",
    "\n",
    "要求：0到n-1排成一圈，从0开始每次数m个数删除，求最后剩余的数\n",
    "\n",
    "思路：当 n > 1 时： f(n,m) = [f(n-1, m)+m]%n,当 n = 1 时： f(n,m)=0，关键是推导出关系表达式\n",
    "\n"
   ]
  },
  {
   "cell_type": "code",
   "execution_count": 96,
   "metadata": {},
   "outputs": [],
   "source": [
    "def last_num(n, m):\n",
    "    res = 0\n",
    "    if n == 1: return 0\n",
    "    for i in range(2, n + 1):\n",
    "        res = (m + res) % i\n",
    "    return res\n"
   ]
  },
  {
   "cell_type": "code",
   "execution_count": null,
   "metadata": {},
   "outputs": [],
   "source": []
  },
  {
   "cell_type": "markdown",
   "metadata": {},
   "source": [
    "# 数组中重复的数字\n",
    "\n",
    "找出数组中重复的数字。\n",
    "\n",
    "在一个长度为 n 的数组 nums 里的所有数字都在 0～n-1 的范围内。数组中某些数字是重复的，但不知道有几个数字重复了，也不知道每个数字重复了几次。请找出数组中任意一个重复的数字。\n",
    "\n",
    "快慢指针\n",
    "\n",
    "LeetCode原题，这个思路特别巧妙，使用快慢指针，判断数组中是否有逻辑上的环存在。题目的返回方式需要注意。另外就是注意快慢指针的初始化方式。\n"
   ]
  },
  {
   "cell_type": "code",
   "execution_count": 97,
   "metadata": {},
   "outputs": [],
   "source": [
    "def duplicate(self, nums, duplication):\n",
    "    if len(set(nums)) == len(nums):\n",
    "        duplication[0] = -1\n",
    "        return False\n",
    "    fast = nums[nums[0]]\n",
    "    slow = nums[0]\n",
    "    while fast != slow:\n",
    "        fast = nums[nums[fast]]\n",
    "        slow = nums[slow]\n",
    "    fast = 0\n",
    "    while fast != slow:\n",
    "        fast = nums[nums[fast]]\n",
    "        slow = nums[slow]\n",
    "    duplication[0] = nums[fast]\n",
    "    return True\n",
    "    "
   ]
  },
  {
   "cell_type": "code",
   "execution_count": null,
   "metadata": {},
   "outputs": [],
   "source": []
  },
  {
   "cell_type": "markdown",
   "metadata": {},
   "source": [
    "# 构建乘积数组\n",
    "\n",
    "给定一个数组A[0,1,…,n-1],请构建一个数组B[0,1,…,n-1],其中B中的元素B[i]=A[0]A1…A[i-1]*A[i+1]…*A[n-1]。不能使用除法。\n",
    "\n",
    "LeetCode原题238. Product of Array Except Self。思路挺简单，用prod来保存之前的所有数字的乘积；回头的时候保存后面的所有数字的乘积。\n",
    "\n"
   ]
  },
  {
   "cell_type": "code",
   "execution_count": 98,
   "metadata": {},
   "outputs": [],
   "source": [
    "def multiply(A):\n",
    "    ans = []\n",
    "    prod = 1\n",
    "    for i in range(len(A)):\n",
    "        ans.append(prod)\n",
    "        prod *= A[i]\n",
    "    prod = 1\n",
    "    for i in range(len(A) - 1, -1, -1):\n",
    "        ans[i] *= prod\n",
    "        prod *= A[i]\n",
    "    return ans\n"
   ]
  },
  {
   "cell_type": "code",
   "execution_count": null,
   "metadata": {},
   "outputs": [],
   "source": []
  },
  {
   "cell_type": "markdown",
   "metadata": {},
   "source": [
    "# 链表中环的入口结点\n",
    "\n",
    "一个链表中包含环，请找出该链表的环的入口结点。\n",
    "\n",
    "就是leetcode的142. Linked List Cycle II题目，使用快慢指针，如果相遇了，那么把一个指针调整到头部，重新开始再相遇即可。\n",
    "\n",
    "\n",
    "\n"
   ]
  },
  {
   "cell_type": "code",
   "execution_count": 99,
   "metadata": {},
   "outputs": [],
   "source": [
    "def find_entry_node_of_loop(head):\n",
    "    slow, fast = head, head\n",
    "    while fast and fast.next:\n",
    "        fast = fast.next.next\n",
    "        slow = slow.next\n",
    "        if fats == slow:\n",
    "            break\n",
    "    if not fast or not fast.next:\n",
    "        return None\n",
    "    fast = head\n",
    "    while fast != slow:\n",
    "        fast = fast.next\n",
    "        slow = slow.next\n",
    "    return fast\n",
    "    "
   ]
  },
  {
   "cell_type": "code",
   "execution_count": null,
   "metadata": {},
   "outputs": [],
   "source": []
  },
  {
   "cell_type": "markdown",
   "metadata": {},
   "source": [
    "# 删除链表中重复的结点\n",
    "\n",
    "在一个排序的链表中，存在重复的结点，请删除该链表中重复的结点，重复的结点不保留，返回链表头指针。 例如，链表1->2->3->3->4->4->5 处理后为 1->2->5\n",
    "\n",
    "要删除有序链表中所有的重复节点，而头结点有可能就是重复节点。这样的比较好的解决方式就是新建头结点，然后往后遍历，同样的值就全部略过。\n",
    "\n"
   ]
  },
  {
   "cell_type": "code",
   "execution_count": 100,
   "metadata": {},
   "outputs": [],
   "source": [
    "class ListNode:\n",
    "    def __init__(self, val=0, next=None):\n",
    "        self.val = val\n",
    "        self.next = next\n",
    "        \n",
    "def delete_duplicate(head):\n",
    "    dummy = ListNode(-1)\n",
    "    dummy.next = head\n",
    "    cur = dummy\n",
    "    while head and head.next:\n",
    "        if head.val == head.next.val:\n",
    "            val = head.val\n",
    "            while head and val == head.val:\n",
    "                head = head.next\n",
    "            cur.next = head\n",
    "        else:\n",
    "            cur = head\n",
    "            head = head.next\n",
    "    \n",
    "    return dummy.next\n",
    "    \n",
    "    "
   ]
  },
  {
   "cell_type": "code",
   "execution_count": null,
   "metadata": {},
   "outputs": [],
   "source": []
  },
  {
   "cell_type": "markdown",
   "metadata": {},
   "source": [
    "# 二叉树的下一个结点\n",
    "\n",
    "给定一个二叉树和其中的一个结点，请找出中序遍历顺序的下一个结点并且返回。注意，树中的结点不仅包含左右子结点，同时包含指向父结点的指针。\n",
    "\n",
    "分析二叉树的下一个节点，一共有以下情况：\n",
    "\n",
    "分情况依次判断。\n",
    "\n",
    "1. 若给定结点为空节点，则返回空\n",
    "\n",
    "2. 若给定结点有右子树，则将结点指向右子树的根节点，然后找到其最左边的叶节点并返回\n",
    "\n",
    "3. 若给定结点没有父节点，则返回空\n",
    "\n",
    "4. 若给定结点有父节点，若给定结点是其父节点的左孩子，则返回其父节点；否则循环地找父节点的父节点直到当前结点是其父节点的左孩子，则返回其父节点。\n",
    "\n",
    "https://blog.csdn.net/u013129109/article/details/80204955\n"
   ]
  },
  {
   "cell_type": "code",
   "execution_count": 101,
   "metadata": {},
   "outputs": [],
   "source": [
    "# -*- coding:utf-8 -*-\n",
    "# class TreeLinkNode:\n",
    "#     def __init__(self, x):\n",
    "#         self.val = x\n",
    "#         self.left = None\n",
    "#         self.right = None\n",
    "#         self.next = None\n",
    "class Solution:\n",
    "    def GetNext(self, pNode):\n",
    "        # write code here\n",
    "        if not pNode:\n",
    "            return None \n",
    "        if pNode.right:\n",
    "            res = pNode.right\n",
    "            while res.left:\n",
    "                res = res.left\n",
    "            return res\n",
    "        while pNode.next:\n",
    "            tmp = pNode.next\n",
    "            if tmp.left == pNode:\n",
    "                return tmp\n",
    "            pNode = tmp\n",
    "        return None"
   ]
  },
  {
   "cell_type": "code",
   "execution_count": null,
   "metadata": {},
   "outputs": [],
   "source": []
  },
  {
   "cell_type": "markdown",
   "metadata": {},
   "source": [
    "# 按之字形顺序打印二叉树\n",
    "\n",
    "请实现一个函数按照之字形打印二叉树，即第一行按照从左到右的顺序打印，第二层按照从右至左的顺序打印，第三行按照从左到右的顺序打印，其他行以此类推。\n",
    "\n"
   ]
  },
  {
   "cell_type": "code",
   "execution_count": 105,
   "metadata": {},
   "outputs": [],
   "source": [
    "class TreeNode:\n",
    "    def __init__(self, val=0, left=None, right=None):\n",
    "        self.val = val\n",
    "        self.left = left\n",
    "        self.right = right\n",
    "        \n",
    "def level_print_tree(root):\n",
    "    res = []\n",
    "    queue = [root]\n",
    "    i = 1\n",
    "    while queue:\n",
    "        temp = []\n",
    "        for _ in range(len(queue)):\n",
    "            node = queue.pop(0)\n",
    "            temp.append(node.val)\n",
    "            if node.left:\n",
    "                queue.append(node.left)\n",
    "            if node.right:\n",
    "                queue.append(node.right)\n",
    "        if i % 2 == 0:\n",
    "            temp = temp[::-1]\n",
    "        res += temp\n",
    "        i += 1\n",
    "    return res\n",
    "    \n",
    "    \n",
    "    "
   ]
  },
  {
   "cell_type": "code",
   "execution_count": null,
   "metadata": {},
   "outputs": [],
   "source": []
  },
  {
   "cell_type": "markdown",
   "metadata": {},
   "source": [
    "# 把二叉树打印成多行\n",
    "\n",
    "从上到下按层打印二叉树，同一层结点从左至右输出。每一层输出一行。\n",
    "\n"
   ]
  },
  {
   "cell_type": "code",
   "execution_count": 107,
   "metadata": {},
   "outputs": [],
   "source": [
    "class TreeNode(object):\n",
    "\n",
    "    def __init__(self, val=0, left=None, right=None):\n",
    "        self.val = val\n",
    "        self.left = left\n",
    "        self.right = right\n",
    "\n",
    "def bfs(root):\n",
    "    if not root:\n",
    "        return None\n",
    "    queue = [root]\n",
    "    res = []\n",
    "    while queue:\n",
    "        for _ in len(queue):\n",
    "            node = queue.pop(0)\n",
    "            res.append(node.val)\n",
    "            if node.left:\n",
    "                queue.append(node.left)\n",
    "            if node.right:\n",
    "                queue.append(node.right)\n",
    "    return res"
   ]
  },
  {
   "cell_type": "code",
   "execution_count": null,
   "metadata": {},
   "outputs": [],
   "source": []
  },
  {
   "cell_type": "markdown",
   "metadata": {},
   "source": [
    "# 序列化二叉树\n",
    "\n",
    "请实现两个函数，分别用来序列化和反序列化二叉树\n",
    "\n",
    "297. Serialize and Deserialize Binary Tree\n",
    "\n",
    "https://leetcode.com/problems/serialize-and-deserialize-binary-tree/\n",
    "\n"
   ]
  },
  {
   "cell_type": "code",
   "execution_count": 109,
   "metadata": {},
   "outputs": [],
   "source": [
    "def serialize(root):\n",
    "    vals = []\n",
    "    def pre_order(root):\n",
    "        if not root:\n",
    "            vals.append('#')\n",
    "            return\n",
    "        vals.append(str(root.val))\n",
    "        pre_order(root.left)\n",
    "        pre_order(root.right)\n",
    "    pre_order(root)\n",
    "    return ' '.join(vals)\n",
    "\n",
    "\n",
    "def deserialize(s):\n",
    "    vals = s.split()\n",
    "    def build():\n",
    "        if vals:\n",
    "            val = vals.pop(0)\n",
    "            if val == '#':\n",
    "                return None\n",
    "            root = TreeNode(int(val))\n",
    "            root.left = build()\n",
    "            root.right = build()\n",
    "            return root\n",
    "        return None\n",
    "    return build()\n",
    "    \n"
   ]
  },
  {
   "cell_type": "code",
   "execution_count": null,
   "metadata": {},
   "outputs": [],
   "source": []
  },
  {
   "cell_type": "markdown",
   "metadata": {},
   "source": [
    "# 二叉搜索树的第k个结点\n",
    "\n",
    "\n",
    "给定一颗二叉搜索树，请找出其中的第k大的结点。\n",
    "例如，\n",
    "\n",
    "               5\n",
    "              /  \\ \n",
    "             3    7 \n",
    "            / \\  / \\ \n",
    "           2  4  6  8 \n",
    "\n",
    "中，按结点数值大小顺序第三个结点的值为4。\n",
    "\n",
    "解题方法\n",
    "\n",
    "\n",
    "遇到BST想中序遍历。这个题先中序遍历，然后找出第k个节点。\n"
   ]
  },
  {
   "cell_type": "code",
   "execution_count": 110,
   "metadata": {},
   "outputs": [],
   "source": [
    "def kth_node(root, k):\n",
    "    res = []\n",
    "    in_order(root, res)\n",
    "    if len(res) < k:\n",
    "        return None\n",
    "    return res[k]\n",
    "\n",
    "def in_order(root, res):\n",
    "    if not root:\n",
    "        return\n",
    "    in_order(root.left, res)\n",
    "    res.append(root)\n",
    "    in_order(root.right, res)\n",
    "    return"
   ]
  },
  {
   "cell_type": "code",
   "execution_count": null,
   "metadata": {},
   "outputs": [],
   "source": []
  },
  {
   "cell_type": "markdown",
   "metadata": {
    "tags": []
   },
   "source": [
    "# 数据流中的中位数\n",
    "\n",
    "如何得到一个数据流中的中位数？如果从数据流中读出奇数个数值，那么中位数就是所有数值排序之后位于中间的数值。如果从数据流中读出偶数个数值，那么中位数就是所有数值排序之后中间两个数的平均值。\n",
    "\n",
    "https://leetcode.com/problems/find-median-from-data-stream/\n",
    "\n",
    "295. Find Median from Data Stream\n"
   ]
  },
  {
   "cell_type": "code",
   "execution_count": 1,
   "metadata": {},
   "outputs": [],
   "source": [
    "class Solution:\n",
    "    def __init__(self):\n",
    "        self.nums = []\n",
    "    \n",
    "    def insert(self, num):\n",
    "        self.nums.append(num)\n",
    "    \n",
    "    def get_media(self):\n",
    "        self.nums.sort()\n",
    "        if len(self.nums) % 2 == 1:\n",
    "            return self.nums[(len(self.nums) - 1) / 2]\n",
    "        return (self.nums[len(self.nums) / 2] + self.nums[len(self.nums) / 2 - 1]) / 2.0\n",
    "    \n",
    "    \n",
    "    \n",
    "    "
   ]
  },
  {
   "cell_type": "code",
   "execution_count": 2,
   "metadata": {},
   "outputs": [],
   "source": [
    "import heapq\n",
    "\n",
    "class MedianFinder:\n",
    "\n",
    "    def __init__(self):\n",
    "        self.low = []   #min heap\n",
    "        self.high = []  #max heap\n",
    "        \n",
    "\n",
    "    def addNum(self, num: int) -> None:\n",
    "        if not self.low:\n",
    "            heapq.heappush(self.low, -num)\n",
    "        elif num <= -self.low[0]:\n",
    "            heapq.heappush(self.low, -num)\n",
    "        else:\n",
    "            heapq.heappush(self.high, num)\n",
    "        if len(self.low) > len(self.high) + 1:\n",
    "            heapq.heappush(self.high, -heapq.heappop(self.low))\n",
    "        elif len(self.high) > len(self.low):\n",
    "            heapq.heappush(self.low, -heapq.heappop(self.high))\n",
    "        \n",
    "\n",
    "    def findMedian(self) -> float:\n",
    "        if len(self.low) == len(self.high):\n",
    "            return (-self.low[0] + self.high[0]) / 2\n",
    "        return -self.low[0]\n",
    "        \n",
    "\n",
    "\n",
    "# Your MedianFinder object will be instantiated and called as such:\n",
    "# obj = MedianFinder()\n",
    "# obj.addNum(num)\n",
    "# param_2 = obj.findMedian()\n"
   ]
  },
  {
   "cell_type": "code",
   "execution_count": null,
   "metadata": {},
   "outputs": [],
   "source": []
  },
  {
   "cell_type": "code",
   "execution_count": null,
   "metadata": {},
   "outputs": [],
   "source": []
  },
  {
   "cell_type": "code",
   "execution_count": null,
   "metadata": {},
   "outputs": [],
   "source": []
  },
  {
   "cell_type": "markdown",
   "metadata": {},
   "source": [
    "# 字符流中第一个不重复的字符\n",
    "\n",
    "请实现一个函数用来找出字符流中第一个只出现一次的字符。例如，当从字符流中只读出前两个字符”go”时，第一个只出现一次的字符是”g”。当从该字符流中读出前六个字符“google”时，第一个只出现一次的字符是”l”。\n",
    "\n",
    "输出描述:\n",
    "\n",
    "如果当前字符流没有存在出现一次的字符，返回#字符。\n",
    "\n"
   ]
  },
  {
   "cell_type": "code",
   "execution_count": 112,
   "metadata": {},
   "outputs": [],
   "source": [
    "from collections import Counter\n",
    "\n",
    "class Solution:\n",
    "    \n",
    "    def __init__(self):\n",
    "        self.words = []\n",
    "    \n",
    "    def first_appear_once(self):\n",
    "        counter = Counter(self.words)\n",
    "        for char in self.words:\n",
    "            if counter[char] == 1:\n",
    "                return char\n",
    "        return '#'\n",
    "    \n",
    "    def insert(self, char):\n",
    "        self.words.append(char)\n",
    "        return\n",
    "    "
   ]
  },
  {
   "cell_type": "code",
   "execution_count": null,
   "metadata": {},
   "outputs": [],
   "source": []
  },
  {
   "cell_type": "markdown",
   "metadata": {},
   "source": [
    "# 外星字典"
   ]
  },
  {
   "cell_type": "markdown",
   "metadata": {},
   "source": [
    "https://leetcode.com/problems/verifying-an-alien-dictionary/\n",
    "\n",
    "953. Verifying an Alien Dictionary\n",
    "\n",
    "In an alien language, surprisingly, they also use English lowercase letters, but possibly in a different order. The order of the alphabet is some permutation of lowercase letters.\n",
    "\n",
    "Given a sequence of words written in the alien language, and the order of the alphabet, return true if and only if the given words are sorted lexicographically in this alien language.\n",
    "\n",
    " \n",
    "\n",
    "Example 1:\n",
    "\n",
    "Input: words = [\"hello\",\"leetcode\"], order = \"hlabcdefgijkmnopqrstuvwxyz\"\n",
    "\n",
    "Output: true\n",
    "\n",
    "Explanation: As 'h' comes before 'l' in this language, then the sequence is sorted.\n",
    "\n",
    "Example 2:\n",
    "\n",
    "Input: words = [\"word\",\"world\",\"row\"], order = \"worldabcefghijkmnpqstuvxyz\"\n",
    "\n",
    "Output: false\n",
    "\n",
    "Explanation: As 'd' comes after 'l' in this language, then words[0] > words[1], hence the sequence is unsorted.\n",
    "\n",
    "Example 3:\n",
    "\n",
    "Input: words = [\"apple\",\"app\"], order = \"abcdefghijklmnopqrstuvwxyz\"\n",
    "\n",
    "Output: false\n",
    "\n",
    "Explanation: The first three characters \"app\" match, and the second string is shorter (in size.) According to lexicographical rules \"apple\" > \"app\", because 'l' > '∅', where '∅' is defined as the blank character which is less than any other character (More info).\n",
    " \n",
    "\n",
    "Constraints:\n",
    "\n",
    "- 1 <= words.length <= 100\n",
    "- 1 <= words[i].length <= 20\n",
    "- order.length == 26\n",
    "- All characters in words[i] and order are English lowercase letters.\n",
    "\n",
    "\n"
   ]
  },
  {
   "cell_type": "code",
   "execution_count": 4,
   "metadata": {},
   "outputs": [],
   "source": [
    "from typing import List\n",
    "\n",
    "class Solution:\n",
    "    def isAlienSorted(self, words: List[str], order: str) -> bool:\n",
    "        ch_dict = {ch:i for i, ch in enumerate(order)}\n",
    "        for i in range(len(words)-1):\n",
    "            j = i + 1\n",
    "            min_len = min(len(words[i]), len(words[j]))\n",
    "            for k in range(min_len):\n",
    "                if ch_dict[words[i][k]] > ch_dict[words[j][k]]:\n",
    "                    return False\n",
    "                elif ch_dict[words[i][k]] < ch_dict[words[j][k]]:\n",
    "                    break\n",
    "                elif k == min_len - 1 and len(words[i]) > len(words[j]):\n",
    "                    return False\n",
    "        return False\n",
    "    "
   ]
  },
  {
   "cell_type": "code",
   "execution_count": null,
   "metadata": {},
   "outputs": [],
   "source": []
  },
  {
   "cell_type": "markdown",
   "metadata": {},
   "source": [
    "# Topological sorting\n",
    "\n",
    "https://blog.techbridge.cc/2020/05/10/leetcode-topological-sort/\n",
    "\n"
   ]
  },
  {
   "cell_type": "markdown",
   "metadata": {},
   "source": [
    "\n",
    "https://leetcode.com/problems/alien-dictionary/\n",
    "\n",
    "## 269. Alien Dictionary\n",
    "\n",
    "There is a new alien language which uses the latin alphabet. \n",
    "However, the order among letters are unknown to you. \n",
    "You receive a list of non-empty words from the dictionary, \n",
    "where words are sorted lexicographically by the rules of this new language. \n",
    "Derive the order of letters in this language.\n",
    "\n",
    "Example 1:\n",
    "\n",
    "Input:\n",
    "[\n",
    "  \"wrt\",\n",
    "  \"wrf\",\n",
    "  \"er\",\n",
    "  \"ett\",\n",
    "  \"rftt\"\n",
    "]\n",
    "\n",
    "Output: \"wertf\"\n",
    "Example 2:\n",
    "\n",
    "Input:\n",
    "[\n",
    "  \"z\",\n",
    "  \"x\"\n",
    "]\n",
    "\n",
    "Output: \"zx\"\n",
    "Example 3:\n",
    "\n",
    "Input:\n",
    "[\n",
    "  \"z\",\n",
    "  \"x\",\n",
    "  \"z\"\n",
    "] \n",
    "\n",
    "Output: \"\" \n",
    "\n",
    "Explanation: The order is invalid, so return \"\".\n",
    "Note:\n",
    "\n",
    "You may assume all letters are in lowercase.\n",
    "If the order is invalid, return an empty string.\n",
    "There may be multiple valid order of letters, return any one of them is fine.\n",
    "\n",
    "\n"
   ]
  },
  {
   "cell_type": "code",
   "execution_count": null,
   "metadata": {},
   "outputs": [],
   "source": []
  },
  {
   "cell_type": "code",
   "execution_count": null,
   "metadata": {},
   "outputs": [],
   "source": [
    "from typing import List\n",
    "\n",
    "\n",
    "class Solution:\n",
    "    def alienOrder(self, words: List[str]) -> str:\n",
    "        if not words:\n",
    "            return \"\"\n",
    "\n",
    "        # a. Initialize the graph\n",
    "        graph, indegree = {}, {}\n",
    "        for word in words:\n",
    "            for char in word:\n",
    "                indegree[char] = 0\n",
    "                graph[char] = []\n",
    "\n",
    "        # b. Build the graph\n",
    "        for i in range(0, len(words) - 1):\n",
    "            # find ordering of characters from adjacent words\n",
    "            cur_word, next_word = words[i], words[i+1]\n",
    "            for j in range(0, min(len(cur_word), len(next_word))):\n",
    "                parent, child = cur_word[j], next_word[j]\n",
    "                if parent != child:\n",
    "                    indegree[child] += 1\n",
    "                    graph[parent].append(child)\n",
    "                    break\n",
    "                    # only the first different character between the two words will help\n",
    "\n",
    "        # c. Find all sources i.e., all vertices with 0 in-degrees\n",
    "        sources = [node for node in indegree if indegree[node] == 0]\n",
    "\n",
    "        # d. For each source, add it to the sortedOrder and subtract one from all of its\n",
    "        # if a child's in-degree becomes zero, add it to the sources queue\n",
    "        orders = []\n",
    "        while sources:\n",
    "            source = sources.pop(0)\n",
    "            orders.append(source)\n",
    "            for child in graph[source]:\n",
    "                indegree[child] -= 1\n",
    "                if indegree[child] == 0:\n",
    "                    sources.append(child)\n",
    "\n",
    "        # if sortedOrder doesn't contain all characters, there is a cyclic dependency bet\n",
    "        # will not be able to find the correct ordering of the characters\n",
    "        if len(orders) != len(indegree):\n",
    "            return \"\"\n",
    "\n",
    "        return ''.join(orders)\n",
    "\n",
    "    "
   ]
  },
  {
   "cell_type": "code",
   "execution_count": null,
   "metadata": {},
   "outputs": [],
   "source": []
  },
  {
   "cell_type": "code",
   "execution_count": null,
   "metadata": {},
   "outputs": [],
   "source": []
  },
  {
   "cell_type": "markdown",
   "metadata": {},
   "source": [
    "## 207. Course Schedule\n",
    "\n",
    "https://leetcode.com/problems/course-schedule/\n",
    "\n",
    "There are a total of numCourses courses you have to take, labeled from 0 to numCourses - 1. You are given an array prerequisites where prerequisites[i] = [ai, bi] indicates that you must take course bi first if you want to take course ai.\n",
    "\n",
    "For example, the pair [0, 1], indicates that to take course 0 you have to first take course 1.\n",
    "Return true if you can finish all courses. Otherwise, return false.\n",
    "\n",
    " \n",
    "\n",
    "Example 1:\n",
    "\n",
    "Input: numCourses = 2, prerequisites = [[1,0]]\n",
    "\n",
    "Output: true\n",
    "\n",
    "Explanation: There are a total of 2 courses to take. \n",
    "\n",
    "To take course 1 you should have finished course 0. So it is possible.\n",
    "\n",
    "Example 2:\n",
    "\n",
    "Input: numCourses = 2, prerequisites = [[1,0],[0,1]]\n",
    "\n",
    "Output: false\n",
    "\n",
    "Explanation: There are a total of 2 courses to take. \n",
    "To take course 1 you should have finished course 0, and to take course 0 you should also have finished course 1. So it is impossible.\n",
    " \n",
    "\n",
    "Constraints:\n",
    "\n",
    "- 1 <= numCourses <= 105\n",
    "- 0 <= prerequisites.length <= 5000\n",
    "- prerequisites[i].length == 2\n",
    "- 0 <= ai, bi < numCourses\n",
    "- All the pairs prerequisites[i] are unique.\n",
    "\n",
    "\n",
    "\n",
    "\n"
   ]
  },
  {
   "cell_type": "code",
   "execution_count": 5,
   "metadata": {},
   "outputs": [],
   "source": [
    "from collections import defaultdict\n",
    "\n",
    "class Solution:\n",
    "    def canFinish(self, numCourses: int, prerequisties: List[List[int]]) -> bool:\n",
    "        graph = defaultdict(list)\n",
    "        indegrees = defaultdict(int)\n",
    "        \n",
    "        for cur, prev in prerequisties:\n",
    "            graph[prev].append(cur)\n",
    "            indegrees[cur] += 1\n",
    "        \n",
    "        sources = [cours for cours in range(numCourses) if not indegrees[cours]]\n",
    "        order = set()\n",
    "\n",
    "        while sources:\n",
    "            cours = sources.pop(0)\n",
    "            order.add(cours)\n",
    "            for child in graph[cours]:\n",
    "                indegree[child] -= 1\n",
    "                if indegree[child] == 0:\n",
    "                    sources.append(child)\n",
    "        \n",
    "        return len(order) == numCourses\n",
    "    \n",
    "        \n",
    "        "
   ]
  },
  {
   "cell_type": "code",
   "execution_count": null,
   "metadata": {},
   "outputs": [],
   "source": []
  },
  {
   "cell_type": "markdown",
   "metadata": {},
   "source": [
    "\n",
    "## 210. Course Schedule II\n",
    "\n",
    "https://leetcode.com/problems/course-schedule-ii/\n",
    "\n",
    "\n",
    "There are a total of numCourses courses you have to take, labeled from 0 to numCourses - 1. You are given an array prerequisites where prerequisites[i] = [ai, bi] indicates that you must take course bi first if you want to take course ai.\n",
    "\n",
    "For example, the pair [0, 1], indicates that to take course 0 you have to first take course 1.\n",
    "Return the ordering of courses you should take to finish all courses. If there are many valid answers, return any of them. If it is impossible to finish all courses, return an empty array.\n",
    "\n",
    " \n",
    "\n",
    "Example 1:\n",
    "\n",
    "Input: numCourses = 2, prerequisites = [[1,0]]\n",
    "\n",
    "Output: [0,1]\n",
    "\n",
    "Explanation: There are a total of 2 courses to take. To take course 1 you should have finished course 0. So the correct course order is [0,1].\n",
    "\n",
    "Example 2:\n",
    "\n",
    "Input: numCourses = 4, prerequisites = [[1,0],[2,0],[3,1],[3,2]]\n",
    "\n",
    "Output: [0,2,1,3]\n",
    "\n",
    "Explanation: There are a total of 4 courses to take. To take course 3 you should have finished both courses 1 and 2. Both courses 1 and 2 should be taken after you finished course 0.\n",
    "\n",
    "So one correct course order is [0,1,2,3]. Another correct ordering is [0,2,1,3].\n",
    "\n",
    "Example 3:\n",
    "\n",
    "Input: numCourses = 1, prerequisites = []\n",
    "\n",
    "Output: [0]\n",
    " \n",
    "\n",
    "Constraints:\n",
    "\n",
    "- 1 <= numCourses <= 2000\n",
    "- 0 <= prerequisites.length <= numCourses * (numCourses - 1)\n",
    "- prerequisites[i].length == 2\n",
    "- 0 <= ai, bi < numCourses\n",
    "- ai != bi\n",
    "- All the pairs [ai, bi] are distinct.\n",
    "\n",
    "\n"
   ]
  },
  {
   "cell_type": "code",
   "execution_count": 6,
   "metadata": {},
   "outputs": [],
   "source": [
    "import collections\n",
    "\n",
    "class Solution:\n",
    "    def findOrder(self, numCourses: int, prerequisites: List[List[int]]) -> List[int]:\n",
    "        graph = collections.defaultdict(list)\n",
    "        indegree = collections.defaultdict(int)\n",
    "        for cur, prev in prerequisites:\n",
    "            graph[prev].append(cur)\n",
    "            indegree[cur] += 1\n",
    "        sources = []\n",
    "        for cours in range(numCourses):\n",
    "            if not indegree[cours]:\n",
    "                sources.append(cours)\n",
    "        order = []\n",
    "        while sources:\n",
    "            #for _ in range(len(sources)):\n",
    "            cours = sources.pop(0)\n",
    "            order.append(cours)\n",
    "            for child in graph[cours]:\n",
    "                indegree[child] -= 1\n",
    "                if indegree[child] == 0:\n",
    "                    sources.append(child)\n",
    "        if len(order) != numCourses:\n",
    "            return []\n",
    "        return order\n",
    "    \n",
    "    "
   ]
  },
  {
   "cell_type": "code",
   "execution_count": null,
   "metadata": {},
   "outputs": [],
   "source": []
  },
  {
   "cell_type": "code",
   "execution_count": null,
   "metadata": {},
   "outputs": [],
   "source": []
  },
  {
   "cell_type": "markdown",
   "metadata": {},
   "source": [
    "# BFS\n",
    "\n",
    "https://leetcode.com/tag/breadth-first-search/\n"
   ]
  },
  {
   "cell_type": "markdown",
   "metadata": {},
   "source": [
    "## 127. Word Ladder\n",
    "\n",
    "https://leetcode.com/problems/word-ladder/\n",
    "\n",
    "A transformation sequence from word beginWord to word endWord using a dictionary wordList is \n",
    "a sequence of words beginWord -> s1 -> s2 -> ... -> sk such that:\n",
    "\n",
    "Every adjacent pair of words differs by a single letter.\n",
    "Every si for 1 <= i <= k is in wordList. Note that beginWord does not need to be in wordList.\n",
    "sk == endWord\n",
    "Given two words, beginWord and endWord, and a dictionary wordList, return the number of words in the shortest transformation sequence from beginWord to endWord, or 0 if no such sequence exists.\n",
    "\n",
    " \n",
    "\n",
    "Example 1:\n",
    "\n",
    "Input: beginWord = \"hit\", endWord = \"cog\", wordList = [\"hot\",\"dot\",\"dog\",\"lot\",\"log\",\"cog\"]\n",
    "\n",
    "Output: 5\n",
    "\n",
    "Explanation: One shortest transformation sequence is \"hit\" -> \"hot\" -> \"dot\" -> \"dog\" -> cog\", which is 5 words long.\n",
    "\n",
    "Example 2:\n",
    "\n",
    "Input: beginWord = \"hit\", endWord = \"cog\", wordList = [\"hot\",\"dot\",\"dog\",\"lot\",\"log\"]\n",
    "\n",
    "Output: 0\n",
    "\n",
    "Explanation: The endWord \"cog\" is not in wordList, therefore there is no valid transformation sequence.\n",
    " \n",
    "\n",
    "Constraints:\n",
    "\n",
    "- 1 <= beginWord.length <= 10\n",
    "- endWord.length == beginWord.length\n",
    "- 1 <= wordList.length <= 5000\n",
    "- wordList[i].length == beginWord.length\n",
    "- beginWord, endWord, and wordList[i] consist of lowercase English letters.\n",
    "- beginWord != endWord\n",
    "\n",
    "All the words in wordList are unique.\n",
    "\n",
    "\n",
    "\n",
    "\n"
   ]
  },
  {
   "cell_type": "code",
   "execution_count": 18,
   "metadata": {},
   "outputs": [],
   "source": [
    "class Solution:\n",
    "    def ladderLength(self, beginWord: str, endWord: str, wordList: List[str]) -> int:\n",
    "        queue = [(beginWord, 1)]\n",
    "        seen = set([beginWord])\n",
    "        wordSet = set(wordList)\n",
    "        while queue:\n",
    "            word, level = queue.pop(0)\n",
    "            if word == endWord:\n",
    "                return level\n",
    "            for i in range(len(word)):\n",
    "                for ch in string.ascii_lowercase:\n",
    "                    new_word = word[:i] + ch + word[i+1:]\n",
    "                    if new_word != word and new_word not in seen and new_word in wordSet:\n",
    "                        queue.append((new_word, level+1))\n",
    "                        seen.add(new_word)\n",
    "        return 0\n",
    "    \n",
    "    "
   ]
  },
  {
   "cell_type": "code",
   "execution_count": null,
   "metadata": {},
   "outputs": [],
   "source": []
  },
  {
   "cell_type": "markdown",
   "metadata": {},
   "source": [
    "## 126. Word Ladder II\n",
    "\n",
    "https://leetcode.com/problems/word-ladder-ii/\n",
    "\n",
    "A transformation sequence from word beginWord to word endWord using a dictionary wordList is a sequence of words beginWord -> s1 -> s2 -> ... -> sk such that:\n",
    "\n",
    "Every adjacent pair of words differs by a single letter.\n",
    "Every si for 1 <= i <= k is in wordList. Note that beginWord does not need to be in wordList.\n",
    "sk == endWord\n",
    "Given two words, beginWord and endWord, and a dictionary wordList, return all the shortest transformation sequences from beginWord to endWord, or an empty list if no such sequence exists. Each sequence should be returned as a list of the words [beginWord, s1, s2, ..., sk].\n",
    "\n",
    " \n",
    "\n",
    "Example 1:\n",
    "\n",
    "Input: beginWord = \"hit\", endWord = \"cog\", wordList = [\"hot\",\"dot\",\"dog\",\"lot\",\"log\",\"cog\"]\n",
    "\n",
    "Output: [[\"hit\",\"hot\",\"dot\",\"dog\",\"cog\"],[\"hit\",\"hot\",\"lot\",\"log\",\"cog\"]]\n",
    "\n",
    "Explanation: There are 2 shortest transformation sequences:\n",
    "\n",
    "\"hit\" -> \"hot\" -> \"dot\" -> \"dog\" -> \"cog\"\n",
    "\n",
    "\"hit\" -> \"hot\" -> \"lot\" -> \"log\" -> \"cog\"\n",
    "\n",
    "Example 2:\n",
    "\n",
    "Input: beginWord = \"hit\", endWord = \"cog\", wordList = [\"hot\",\"dot\",\"dog\",\"lot\",\"log\"]\n",
    "\n",
    "Output: []\n",
    "\n",
    "Explanation: The endWord \"cog\" is not in wordList, therefore there is no valid transformation sequence.\n",
    " \n",
    "\n",
    "Constraints:\n",
    "\n",
    "- 1 <= beginWord.length <= 5\n",
    "- endWord.length == beginWord.length\n",
    "- 1 <= wordList.length <= 1000\n",
    "- wordList[i].length == beginWord.length\n",
    "- beginWord, endWord, and wordList[i] consist of lowercase English letters.\n",
    "- beginWord != endWord\n",
    "\n",
    "All the words in wordList are unique.\n",
    "\n",
    "\n",
    "\n"
   ]
  },
  {
   "cell_type": "code",
   "execution_count": 19,
   "metadata": {},
   "outputs": [],
   "source": [
    "class Solution:\n",
    "    def findLadders(self, start: str, end: str, wordList: List[str]) -> List[List[str]]:\n",
    "        if not wordList or (start not in wordList and end not in wordList) or start == end:\n",
    "            return []\n",
    "        wordSet = set(wordList)\n",
    "        wordSet.add(start)\n",
    "        wordSet.add(end)\n",
    "        distance = {}\n",
    "        self.bfs(end, distance, wordSet)\n",
    "        results = []\n",
    "        self.dfs(start, end, distance, wordSet, [start], results)\n",
    "        return results\n",
    "\n",
    "    \n",
    "    def bfs(self, start, distance, wordSet):\n",
    "        distance[start] = 0\n",
    "        queue = deque([start])\n",
    "        while queue:\n",
    "            word = queue.popleft()\n",
    "            for next_word in self.get_next_words(word, wordSet):\n",
    "                if next_word not in distance:\n",
    "                    distance[next_word] = distance[word] + 1\n",
    "                    queue.append(next_word)\n",
    "    \n",
    "    \n",
    "    def get_next_words(self, word, wordSet):\n",
    "        words = []\n",
    "        for i in range(len(word)):\n",
    "            for c in 'abcdefghijklmnopqrstuvwxyz':\n",
    "                next_word = word[:i] + c + word[i + 1:]\n",
    "                if next_word != word and next_word in wordSet:\n",
    "                    words.append(next_word)\n",
    "        return words\n",
    "                    \n",
    "        \n",
    "    def dfs(self, curt, target, distance, wordSet, path, results):\n",
    "        if curt == target:\n",
    "            results.append(list(path))\n",
    "            return\n",
    "        for word in self.get_next_words(curt, wordSet):\n",
    "            if distance[word] != distance[curt] - 1:\n",
    "                continue\n",
    "            #path.append(word)\n",
    "            self.dfs(word, target, distance, wordSet, path + [word], results)\n",
    "            #path.pop()\n",
    "        return \n",
    "    "
   ]
  },
  {
   "cell_type": "code",
   "execution_count": null,
   "metadata": {},
   "outputs": [],
   "source": []
  },
  {
   "cell_type": "code",
   "execution_count": null,
   "metadata": {},
   "outputs": [],
   "source": []
  },
  {
   "cell_type": "code",
   "execution_count": null,
   "metadata": {},
   "outputs": [],
   "source": []
  },
  {
   "cell_type": "code",
   "execution_count": null,
   "metadata": {},
   "outputs": [],
   "source": []
  },
  {
   "cell_type": "code",
   "execution_count": null,
   "metadata": {},
   "outputs": [],
   "source": []
  },
  {
   "cell_type": "markdown",
   "metadata": {},
   "source": [
    "# DFS\n",
    "\n",
    "Depth-First Search\n",
    "\n",
    "https://leetcode.com/tag/depth-first-search/\n"
   ]
  },
  {
   "cell_type": "markdown",
   "metadata": {},
   "source": [
    "## 94. Binary Tree Inorder Traversal\n",
    "\n",
    "https://leetcode.com/problems/binary-tree-inorder-traversal/\n",
    "\n",
    "Given the root of a binary tree, return the inorder traversal of its nodes' values.\n",
    "\n",
    "Example 1:\n",
    "\n",
    "Input: root = [1,null,2,3]\n",
    "Output: [1,3,2]\n",
    "\n",
    "Example 2:\n",
    "\n",
    "Input: root = []\n",
    "Output: []\n",
    "\n",
    "Example 3:\n",
    "\n",
    "Input: root = [1]\n",
    "Output: [1]\n",
    " \n",
    "\n",
    "Constraints:\n",
    "\n",
    "- The number of nodes in the tree is in the range [0, 100].\n",
    "- -100 <= Node.val <= 100\n"
   ]
  },
  {
   "cell_type": "code",
   "execution_count": 7,
   "metadata": {},
   "outputs": [],
   "source": [
    "from typing import List\n",
    "\n",
    "class TreeNode:\n",
    "    def __init__(self, val=0, left=None, right=None):\n",
    "        self.val = val\n",
    "        self.left = left\n",
    "        self.right = right\n",
    "\n",
    "class Solution:\n",
    "    def inorderTraversal(self, root: TreeNode) -> List[int]:\n",
    "        self.results = []\n",
    "        self._inorder(root)\n",
    "        return self.results\n",
    "\n",
    "    def _inorder(self, node: TreeNode):\n",
    "        if not node:\n",
    "            return\n",
    "        self._inorder(node.left)\n",
    "        self.results.append(node.val)\n",
    "        self._inorder(node.right)\n",
    "        return\n",
    "    "
   ]
  },
  {
   "cell_type": "code",
   "execution_count": null,
   "metadata": {},
   "outputs": [],
   "source": []
  },
  {
   "cell_type": "markdown",
   "metadata": {},
   "source": [
    "## 98. Validate Binary Search Tree\n",
    "\n",
    "https://leetcode.com/problems/validate-binary-search-tree/\n",
    "\n",
    "\n",
    "Given the root of a binary tree, determine if it is a valid binary search tree (BST).\n",
    "\n",
    "A valid BST is defined as follows:\n",
    "\n",
    "The left subtree of a node contains only nodes with keys less than the node's key.\n",
    "The right subtree of a node contains only nodes with keys greater than the node's key.\n",
    "Both the left and right subtrees must also be binary search trees.\n",
    "\n",
    "Constraints:\n",
    "\n",
    "- The number of nodes in the tree is in the range [1, 104].\n",
    "- -231 <= Node.val <= 231 - 1\n",
    "\n"
   ]
  },
  {
   "cell_type": "code",
   "execution_count": 8,
   "metadata": {},
   "outputs": [],
   "source": [
    "from typing import Optional\n",
    "from typing import List\n",
    "\n",
    "class TreeNode:\n",
    "    def __init__(self, val=0, left=None, right=None):\n",
    "        self.val = val\n",
    "        self.left = left\n",
    "        self.right = right\n",
    "        \n",
    "        \n",
    "class Solution:\n",
    "    def isValidBST(self, root: Optional[TreeNode]) -> bool:\n",
    "        output = []\n",
    "        self._inorder(root, output)\n",
    "        for i in range(1, len(output)):\n",
    "            if output[i-1] >= output[i]:\n",
    "                return False\n",
    "        return True\n",
    "    \n",
    "    def _inorder(self, root: Optional[TreeNode], output: List[int]):\n",
    "        if not root:\n",
    "            return\n",
    "        self._inorder(root.left, output)\n",
    "        output.append(root.val)\n",
    "        self._inorder(root.right, output)\n",
    "        return\n",
    "    \n",
    "    "
   ]
  },
  {
   "cell_type": "code",
   "execution_count": 9,
   "metadata": {},
   "outputs": [],
   "source": [
    "class Solution:\n",
    "    def isValidBST(self, root: Optional[TreeNode]) -> bool:\n",
    "        return self.isValid(root, float('-inf'), float('inf'))\n",
    "    \n",
    "    def isValid(self, root, min, max):\n",
    "        if not root:\n",
    "            return True\n",
    "        if root.val >= max or root.val <= min:\n",
    "            return False\n",
    "        return self.isValid(root.left, min, root.val) and self.isValid(root.right, root.val, max)\n",
    "    "
   ]
  },
  {
   "cell_type": "code",
   "execution_count": null,
   "metadata": {},
   "outputs": [],
   "source": []
  },
  {
   "cell_type": "markdown",
   "metadata": {},
   "source": [
    "## 700. Search in a Binary Search Tree\n",
    "\n",
    "https://leetcode.com/problems/search-in-a-binary-search-tree/\n",
    "\n",
    "\n",
    "You are given the root of a binary search tree (BST) and an integer val.\n",
    "\n",
    "Find the node in the BST that the node's value equals val and return the subtree rooted with that node. If such a node does not exist, return null.\n",
    "\n",
    "Constraints:\n",
    "\n",
    "- The number of nodes in the tree is in the range [1, 5000].\n",
    "- 1 <= Node.val <= 107\n",
    "- root is a binary search tree.\n",
    "- 1 <= val <= 107\n",
    "\n",
    "\n"
   ]
  },
  {
   "cell_type": "code",
   "execution_count": 10,
   "metadata": {},
   "outputs": [],
   "source": [
    "class TreeNode:\n",
    "    def __init__(self, val=0, left=None, right=None):\n",
    "        self.val = val\n",
    "        self.left = left\n",
    "        self.right = right\n",
    "        \n",
    "        \n",
    "class Solution:\n",
    "    def searchBST(self, root: TreeNode, val: int) -> TreeNode:\n",
    "        if not root:\n",
    "            return None\n",
    "        while root:\n",
    "            if root.val == val:\n",
    "                return root\n",
    "            if root.val > val:\n",
    "                return self.searchBST(root.left, val)\n",
    "            else:\n",
    "                return self.searchBST(root.right, val)\n",
    "        return None\n",
    "        \n",
    "        \n",
    "        "
   ]
  },
  {
   "cell_type": "code",
   "execution_count": null,
   "metadata": {},
   "outputs": [],
   "source": []
  },
  {
   "cell_type": "markdown",
   "metadata": {},
   "source": [
    "## 297. Serialize and Deserialize Binary Tree\n",
    "\n",
    "https://leetcode.com/problems/serialize-and-deserialize-binary-tree/\n",
    "\n",
    "Serialization is the process of converting a data structure or object into a sequence of bits so that it can be stored in a file or memory buffer, or transmitted across a network connection link to be reconstructed later in the same or another computer environment.\n",
    "\n",
    "Design an algorithm to serialize and deserialize a binary tree. There is no restriction on how your serialization/deserialization algorithm should work. You just need to ensure that a binary tree can be serialized to a string and this string can be deserialized to the original tree structure.\n",
    "\n",
    "Clarification: The input/output format is the same as how LeetCode serializes a binary tree. You do not necessarily need to follow this format, so please be creative and come up with different approaches yourself.\n",
    "\n",
    "\n",
    "Constraints:\n",
    "\n",
    "- The number of nodes in the tree is in the range [0, 104].\n",
    "- -1000 <= Node.val <= 1000\n",
    "\n",
    "\n",
    "\n"
   ]
  },
  {
   "cell_type": "code",
   "execution_count": 11,
   "metadata": {},
   "outputs": [],
   "source": [
    "# Definition for a binary tree node.\n",
    "class TreeNode(object):\n",
    "    def __init__(self, x):\n",
    "        self.val = x\n",
    "        self.left = None\n",
    "        self.right = None\n",
    "\n",
    "class Codec:\n",
    "\n",
    "    def serialize(self, root):\n",
    "        \"\"\"Encodes a tree to a single string.\n",
    "        \n",
    "        :type root: TreeNode\n",
    "        :rtype: str\n",
    "        \"\"\"\n",
    "        def dfs(root, string):\n",
    "            if not root:\n",
    "                return string + '#,'\n",
    "            string += str(root.val) + \",\"\n",
    "            string = dfs(root.left, string)\n",
    "            string = dfs(root.right, string)\n",
    "            return string\n",
    "        return dfs(root, '')[:-1]\n",
    "        \n",
    "\n",
    "    def deserialize(self, data):\n",
    "        \"\"\"Decodes your encoded data to tree.\n",
    "        \n",
    "        :type data: str\n",
    "        :rtype: TreeNode\n",
    "        \"\"\"\n",
    "        def dfs(data):\n",
    "            val = data.pop(0)\n",
    "            if val == '#':\n",
    "                return None\n",
    "            root = TreeNode(int(val))\n",
    "            root.left = dfs(data)\n",
    "            root.right = dfs(data)\n",
    "            return root\n",
    "        return dfs(data.split(','))\n",
    "                    \n",
    "        \n",
    "        \n",
    "\n",
    "# Your Codec object will be instantiated and called as such:\n",
    "# codec = Codec()\n",
    "# codec.deserialize(codec.serialize(root))\n",
    "\n"
   ]
  },
  {
   "cell_type": "code",
   "execution_count": null,
   "metadata": {},
   "outputs": [],
   "source": []
  },
  {
   "cell_type": "markdown",
   "metadata": {},
   "source": [
    "## 100. Same Tree\n",
    "\n",
    "https://leetcode.com/problems/same-tree/\n",
    "\n",
    "Given the roots of two binary trees p and q, write a function to check if they are the same or not.\n",
    "\n",
    "Two binary trees are considered the same if they are structurally identical, and the nodes have the same value.\n",
    "\n",
    "\n",
    "\n"
   ]
  },
  {
   "cell_type": "code",
   "execution_count": 12,
   "metadata": {},
   "outputs": [],
   "source": [
    "class TreeNode:\n",
    "    def __init__(self, val=0, left=None, right=None):\n",
    "        self.val = val\n",
    "        self.left = left\n",
    "        self.right = right\n",
    "\n",
    "        \n",
    "class Solution:\n",
    "    def isSameTree(self, p: TreeNode, q: TreeNode) -> bool:\n",
    "        if not p and not q:\n",
    "            return True\n",
    "        if not p or not q:\n",
    "            return False\n",
    "        return p.val == q.val and self.isSameTree(p.left, q.left) and self.isSameTree(p.right, q.right)\n",
    "\n"
   ]
  },
  {
   "cell_type": "code",
   "execution_count": null,
   "metadata": {},
   "outputs": [],
   "source": []
  },
  {
   "cell_type": "markdown",
   "metadata": {},
   "source": [
    "## 101. Symmetric Tree\n",
    "\n",
    "https://leetcode.com/problems/symmetric-tree/\n",
    "\n",
    "Given the root of a binary tree, check whether it is a mirror of itself (i.e., symmetric around its center).\n",
    "\n",
    "Constraints:\n",
    "\n",
    "- The number of nodes in the tree is in the range [1, 1000].\n",
    "- -100 <= Node.val <= 100\n",
    "\n"
   ]
  },
  {
   "cell_type": "code",
   "execution_count": 13,
   "metadata": {},
   "outputs": [],
   "source": [
    "class TreeNode:\n",
    "    def __init__(self, val=0, left=None, right=None):\n",
    "        self.val = val\n",
    "        self.left = left\n",
    "        self.right = right\n",
    "\n",
    "class Solution:\n",
    "    def isSymmetric(self, root: TreeNode) -> bool:\n",
    "        return self.isMirror(root, root)\n",
    "    \n",
    "    def isMirror(self, node_left: TreeNode, node_right: TreeNode) -> bool:\n",
    "        if node_left is None and node_right is None:\n",
    "            return True\n",
    "        if node_left is None or node_right is None:\n",
    "            return False\n",
    "        return node_left.val == node_right.val and self.isMirror(node_left.left, node_right.right) and self.isMirror(node_left.right, node_right.left)\n",
    "        "
   ]
  },
  {
   "cell_type": "code",
   "execution_count": null,
   "metadata": {},
   "outputs": [],
   "source": []
  },
  {
   "cell_type": "markdown",
   "metadata": {},
   "source": [
    "## 104. Maximum Depth of Binary Tree\n",
    "https://leetcode.com/problems/maximum-depth-of-binary-tree/\n",
    "\n",
    "Given the root of a binary tree, return its maximum depth.\n",
    "\n",
    "A binary tree's maximum depth is the number of nodes along the longest path from the root node down to the farthest leaf node.\n",
    "\n",
    "Constraints:\n",
    "\n",
    "- The number of nodes in the tree is in the range [0, 104].\n",
    "- -100 <= Node.val <= 100\n"
   ]
  },
  {
   "cell_type": "code",
   "execution_count": 14,
   "metadata": {},
   "outputs": [],
   "source": [
    "class TreeNode:\n",
    "    def __init__(self, val=0, left=None, right=None):\n",
    "        self.val = val\n",
    "        self.left = left\n",
    "        self.right = right\n",
    "    \n",
    "class Solution:\n",
    "    def maxDepth(self, root: TreeNode) -> int:\n",
    "        if not root:\n",
    "            return 0\n",
    "        return max(self.maxDepth(root.left), self.maxDepth(root.right)) + 1"
   ]
  },
  {
   "cell_type": "code",
   "execution_count": null,
   "metadata": {},
   "outputs": [],
   "source": []
  },
  {
   "cell_type": "markdown",
   "metadata": {},
   "source": [
    "## 110. Balanced Binary Tree\n",
    "\n",
    "https://leetcode.com/problems/balanced-binary-tree/\n",
    "\n",
    "\n",
    "Given a binary tree, determine if it is height-balanced.\n",
    "\n",
    "For this problem, a height-balanced binary tree is defined as:\n",
    "\n",
    "a binary tree in which the left and right subtrees of every node differ in height by no more than 1.\n",
    "\n",
    "Constraints:\n",
    "\n",
    "- The number of nodes in the tree is in the range [0, 5000].\n",
    "- -104 <= Node.val <= 104\n",
    "\n"
   ]
  },
  {
   "cell_type": "code",
   "execution_count": 15,
   "metadata": {},
   "outputs": [],
   "source": [
    "class TreeNode:\n",
    "    def __init__(self, val=0, left=None, right=None):\n",
    "        self.val = val\n",
    "        self.left = left\n",
    "        self.right = right\n",
    "\n",
    "class Solution:\n",
    "    def isBalanced(self, root: TreeNode) -> bool:\n",
    "        if not root:\n",
    "            return True\n",
    "        if not root.left and not root.right:\n",
    "            return True\n",
    "        if abs(self.getDepth(root.left) - self.getDepth(root.right)) > 1:\n",
    "            return False\n",
    "        return self.isBalanced(root.left) and self.isBalanced(root.right)\n",
    "    \n",
    "    \n",
    "    def getDepth(self, node):\n",
    "        if not node:\n",
    "            return 0\n",
    "        return max(self.getDepth(node.left), self.getDepth(node.right)) + 1"
   ]
  },
  {
   "cell_type": "code",
   "execution_count": null,
   "metadata": {},
   "outputs": [],
   "source": []
  },
  {
   "cell_type": "markdown",
   "metadata": {},
   "source": [
    "## 111. Minimum Depth of Binary Tree\n",
    "\n",
    "https://leetcode.com/problems/minimum-depth-of-binary-tree/\n",
    "\n",
    "Given a binary tree, find its minimum depth.\n",
    "\n",
    "The minimum depth is the number of nodes along the shortest path from the root node down to the nearest leaf node.\n",
    "\n",
    "Note: A leaf is a node with no children.\n",
    "\n"
   ]
  },
  {
   "cell_type": "code",
   "execution_count": 16,
   "metadata": {},
   "outputs": [],
   "source": [
    "# Definition for a binary tree node.\n",
    "class TreeNode:\n",
    "    def __init__(self, val=0, left=None, right=None):\n",
    "        self.val = val\n",
    "        self.left = left\n",
    "        self.right = right\n",
    "\n",
    "class Solution:\n",
    "    def minDepth(self, root: TreeNode) -> int:\n",
    "        if not root:\n",
    "            return 0\n",
    "        queue = [root]\n",
    "        depth = 1\n",
    "        while queue:\n",
    "            n = len(queue)\n",
    "            for _ in range(n):\n",
    "                node = queue.pop(0)\n",
    "                if not node.left and not node.right:\n",
    "                    return depth\n",
    "                if node.left:\n",
    "                    queue.append(node.left)\n",
    "                if node.right:\n",
    "                    queue.append(node.right)\n",
    "            depth += 1\n",
    "        return depth\n",
    "    \n",
    "    "
   ]
  },
  {
   "cell_type": "code",
   "execution_count": null,
   "metadata": {},
   "outputs": [],
   "source": []
  },
  {
   "cell_type": "markdown",
   "metadata": {},
   "source": [
    "## 207. Course Schedule\n",
    "\n",
    "https://leetcode.com/problems/course-schedule/\n",
    "\n",
    "There are a total of numCourses courses you have to take, labeled from 0 to numCourses - 1. You are given an array prerequisites where prerequisites[i] = [ai, bi] indicates that you must take course bi first if you want to take course ai.\n",
    "\n",
    "For example, the pair [0, 1], indicates that to take course 0 you have to first take course 1.\n",
    "Return true if you can finish all courses. Otherwise, return false.\n",
    "\n",
    " \n",
    "\n",
    "Example 1:\n",
    "\n",
    "Input: numCourses = 2, prerequisites = [[1,0]]\n",
    "\n",
    "Output: true\n",
    "\n",
    "Explanation: There are a total of 2 courses to take. \n",
    "\n",
    "To take course 1 you should have finished course 0. So it is possible.\n",
    "\n",
    "Example 2:\n",
    "\n",
    "Input: numCourses = 2, prerequisites = [[1,0],[0,1]]\n",
    "\n",
    "Output: false\n",
    "\n",
    "Explanation: There are a total of 2 courses to take. \n",
    "To take course 1 you should have finished course 0, and to take course 0 you should also have finished course 1. So it is impossible.\n",
    " \n",
    "\n",
    "Constraints:\n",
    "\n",
    "- 1 <= numCourses <= 105\n",
    "- 0 <= prerequisites.length <= 5000\n",
    "- prerequisites[i].length == 2\n",
    "- 0 <= ai, bi < numCourses\n",
    "\n",
    "All the pairs prerequisites[i] are unique.\n",
    "\n",
    "\n",
    "\n"
   ]
  },
  {
   "cell_type": "code",
   "execution_count": 17,
   "metadata": {},
   "outputs": [],
   "source": [
    "class Solution:\n",
    "    def canFinish(self, numCourses: int, prerequisites: List[List[int]]) -> bool:\n",
    "        graph = collections.defaultdict(list)\n",
    "        indegrees = collections.defaultdict(int)\n",
    "        \n",
    "        for cur, prev in prerequisites:\n",
    "            graph[prev].append(cur) \n",
    "            indegrees[cur] += 1\n",
    "            \n",
    "        sources = [cours for cours in range(numCourses) if not indegrees[cours]]\n",
    "        order = set()\n",
    "        \n",
    "        while sources:\n",
    "            #for _ in range(len(sources)):\n",
    "            cours = sources.pop(0)\n",
    "            order.add(cours)\n",
    "            for child in graph[cours]:\n",
    "                indegrees[child] -= 1\n",
    "                if indegrees[child] == 0:\n",
    "                    sources.append(child)\n",
    "                    \n",
    "        return len(order) == numCourses\n",
    "    "
   ]
  },
  {
   "cell_type": "code",
   "execution_count": null,
   "metadata": {},
   "outputs": [],
   "source": []
  },
  {
   "cell_type": "code",
   "execution_count": null,
   "metadata": {},
   "outputs": [],
   "source": []
  },
  {
   "cell_type": "code",
   "execution_count": null,
   "metadata": {},
   "outputs": [],
   "source": []
  },
  {
   "cell_type": "code",
   "execution_count": null,
   "metadata": {},
   "outputs": [],
   "source": []
  },
  {
   "cell_type": "code",
   "execution_count": null,
   "metadata": {},
   "outputs": [],
   "source": []
  },
  {
   "cell_type": "code",
   "execution_count": null,
   "metadata": {},
   "outputs": [],
   "source": []
  },
  {
   "cell_type": "code",
   "execution_count": null,
   "metadata": {},
   "outputs": [],
   "source": []
  },
  {
   "cell_type": "markdown",
   "metadata": {},
   "source": [
    "# 位运算\n"
   ]
  },
  {
   "cell_type": "markdown",
   "metadata": {},
   "source": [
    "## 位1的个数\n",
    "\n",
    "输入一个无符号整数，返回其二进制表达式中数字为1的位的个数\n",
    "\n"
   ]
  },
  {
   "cell_type": "code",
   "execution_count": 3,
   "metadata": {},
   "outputs": [
    {
     "name": "stdout",
     "output_type": "stream",
     "text": [
      "3\n"
     ]
    }
   ],
   "source": [
    "class Solution:\n",
    "    def hammingWeight(self, n:int) -> int:\n",
    "        val = 0\n",
    "        for i in range(32):\n",
    "            if n & (1 << i):\n",
    "                val += 1\n",
    "        return val\n",
    "  \n",
    "sol = Solution()\n",
    "print(sol.hammingWeight(11))\n"
   ]
  },
  {
   "cell_type": "markdown",
   "metadata": {},
   "source": [
    "时间复杂度：O(1)\n",
    "\n",
    "空间复杂度：O(1)\n"
   ]
  },
  {
   "cell_type": "code",
   "execution_count": null,
   "metadata": {},
   "outputs": [],
   "source": []
  },
  {
   "cell_type": "markdown",
   "metadata": {},
   "source": [
    "## 整数替换\n",
    "\n",
    "给定一个整数，用以下操作\n",
    "- 如n是偶数，则用n/2替换n\n",
    "- 如n是奇数，则可以用n+1或n-1替换n\n",
    "求n变为1所需的最小替换次数是多少？\n",
    "\n",
    "\n",
    "Example:\n",
    "\n",
    "input: 8\n",
    "\n",
    "output: 3\n",
    "\n",
    "8 -> 4 -> 2 -> 1\n"
   ]
  },
  {
   "cell_type": "code",
   "execution_count": 5,
   "metadata": {},
   "outputs": [
    {
     "name": "stdout",
     "output_type": "stream",
     "text": [
      "3\n"
     ]
    }
   ],
   "source": [
    "class Solution:\n",
    "    def integerReplacement(self, n:int) -> int:\n",
    "        if n == 1:\n",
    "            return 0\n",
    "        elif n % 2 == 0:\n",
    "            return 1 + self.integerReplacement(n // 2)\n",
    "        else:\n",
    "            return min(self.integerReplacement(n + 1), self.integerReplacement(n - 1)) + 1\n",
    "        \n",
    "        \n",
    "sol = Solution()\n",
    "print(sol.integerReplacement(8))\n"
   ]
  },
  {
   "cell_type": "markdown",
   "metadata": {},
   "source": [
    "时间复杂度：O(logn)\n",
    "\n",
    "空间复杂度：O(1)\n"
   ]
  },
  {
   "cell_type": "code",
   "execution_count": null,
   "metadata": {},
   "outputs": [],
   "source": []
  },
  {
   "cell_type": "markdown",
   "metadata": {},
   "source": [
    "## 只出现一次的数字\n",
    "\n",
    "给定一个非空整数数组，除了一个元素只出现1次外，其余每个元素均出现2次。找出出现1次的元素。\n"
   ]
  },
  {
   "cell_type": "code",
   "execution_count": 7,
   "metadata": {},
   "outputs": [],
   "source": [
    "from typing import List\n",
    "from collections import defaultdict\n",
    "\n",
    "class Solution:\n",
    "    def singleNumber(self, nums:List[int]) -> int:\n",
    "        hash_tab = defaultdict(int)\n",
    "        for i in nums:\n",
    "            hash_tab[i] += 1\n",
    "        for i in nums:\n",
    "            if hash_tab[i] == 1:\n",
    "                return i\n",
    "\n",
    "\n"
   ]
  },
  {
   "cell_type": "markdown",
   "metadata": {},
   "source": [
    "时间复杂度: O(n)\n",
    "\n",
    "空间复杂度：O(n)\n"
   ]
  },
  {
   "cell_type": "code",
   "execution_count": null,
   "metadata": {},
   "outputs": [],
   "source": []
  },
  {
   "cell_type": "markdown",
   "metadata": {},
   "source": [
    "想让两个数抵消，一种方法是使用算术运算，两数相减，一种是使用位运算符或异或运算(a^a=0)\n",
    "\n",
    "a^b^a == a^a^b == b\n"
   ]
  },
  {
   "cell_type": "code",
   "execution_count": 8,
   "metadata": {},
   "outputs": [
    {
     "name": "stdout",
     "output_type": "stream",
     "text": [
      "1\n"
     ]
    }
   ],
   "source": [
    "class Solution:\n",
    "    def singleNumber(self, nums:List[int]) -> int:\n",
    "        ret = 0\n",
    "        for num in nums:\n",
    "            ret ^= num\n",
    "        \n",
    "        return ret\n",
    "    \n",
    "sol = Solution()\n",
    "print(sol.singleNumber([2, 2, 1]))\n",
    "\n"
   ]
  },
  {
   "cell_type": "code",
   "execution_count": null,
   "metadata": {},
   "outputs": [],
   "source": []
  },
  {
   "cell_type": "markdown",
   "metadata": {},
   "source": [
    "# 双指针\n"
   ]
  },
  {
   "cell_type": "markdown",
   "metadata": {},
   "source": [
    "## 两数相加II\n",
    "\n",
    "给定一个按照升序排序的有序数组，找到两个数使他们相加之和等于目标数。\n",
    "函数返回这两个数的下标值index1和index2, 其中index1必须小于index2。\n",
    "\n",
    "\n"
   ]
  },
  {
   "cell_type": "code",
   "execution_count": 1,
   "metadata": {},
   "outputs": [],
   "source": [
    "from typing import List\n",
    "\n",
    "class Solution:\n",
    "    def twoSum(self, nums:List[int], target: int) -> List[int]:\n",
    "        left, right = 0, len(nums) - 1\n",
    "        while left < right:\n",
    "            if nums[left] + nums[right] == target:\n",
    "                return [left + 1, right + 1]\n",
    "            elif nums[left] + nums[right] < target:\n",
    "                left += 1\n",
    "            else:\n",
    "                right -= 1\n",
    "        return []\n",
    "        \n",
    "        "
   ]
  },
  {
   "cell_type": "markdown",
   "metadata": {},
   "source": [
    "时间复杂度: O(n)\n",
    "\n",
    "空间复杂度: O(n)\n"
   ]
  },
  {
   "cell_type": "code",
   "execution_count": null,
   "metadata": {},
   "outputs": [],
   "source": []
  },
  {
   "cell_type": "markdown",
   "metadata": {},
   "source": [
    "## 盛水问题\n",
    "\n",
    "给定n个非负整数，每个数代表坐标系的一个点。找到其中两条线，使它们与x轴共同构成的容器可以容纳最多的水。\n",
    "\n",
    "https://leetcode.com/problems/container-with-most-water/\n"
   ]
  },
  {
   "cell_type": "code",
   "execution_count": 5,
   "metadata": {},
   "outputs": [],
   "source": [
    "class Solution:\n",
    "    def maxArea(self, height: List[int]) -> int:\n",
    "        n = len(height)\n",
    "        left = 0\n",
    "        right = n - 1\n",
    "        max_area = 0\n",
    "        while left < right:\n",
    "            left_height = height[left]\n",
    "            right_height = height[right]\n",
    "            max_area = max(max_area, min(left_height, right_height)*(right - left))\n",
    "            if left_height < right_height:\n",
    "                left += 1\n",
    "            else:\n",
    "                right -= 1\n",
    "        return max_area\n",
    "                \n",
    "        \n"
   ]
  },
  {
   "cell_type": "code",
   "execution_count": null,
   "metadata": {},
   "outputs": [],
   "source": []
  },
  {
   "cell_type": "markdown",
   "metadata": {},
   "source": [
    "## 环形链表\n",
    "\n",
    "给定一个链表，判断链表中是否有环。\n",
    "\n"
   ]
  },
  {
   "cell_type": "code",
   "execution_count": 7,
   "metadata": {},
   "outputs": [],
   "source": [
    "class ListNode:\n",
    "    def __init__(self, x):\n",
    "        self.x = x\n",
    "        self.next = None\n",
    "\n",
    "class Solution:\n",
    "    def hasCycle(self, head: ListNode) -> bool:\n",
    "        if head is None:\n",
    "            return False\n",
    "        \n",
    "        node_set = {}\n",
    "        while head.next:\n",
    "            node_set[head] = True\n",
    "            if head.next in node_set:\n",
    "                return True\n",
    "            head = head.next\n",
    "        \n",
    "        return False\n",
    "    \n"
   ]
  },
  {
   "cell_type": "code",
   "execution_count": 8,
   "metadata": {},
   "outputs": [],
   "source": [
    "class ListNode:\n",
    "    def __init__(self, x):\n",
    "        self.x = x\n",
    "        self.next = None\n",
    "\n",
    "class Solution:\n",
    "    def hasCycle(self, head: ListNode) -> bool:\n",
    "        if head == None or head.next == None:\n",
    "            return False\n",
    "        pslow = pfast = head\n",
    "        while pfast != None and pfast.next != None:\n",
    "            pslow = pslow.next\n",
    "            pfast = pfast.next.next\n",
    "            if pslow == pfast:\n",
    "                break\n",
    "        if pfast == None or pfast.next == None:\n",
    "            return False\n",
    "        elif pfast == pslow:\n",
    "            return True\n",
    "        \n",
    "        return False\n",
    "        \n",
    "        \n",
    "        \n",
    "        \n",
    "        "
   ]
  },
  {
   "cell_type": "code",
   "execution_count": null,
   "metadata": {},
   "outputs": [],
   "source": []
  },
  {
   "cell_type": "markdown",
   "metadata": {},
   "source": [
    "## 无重复字符串的最长子串\n",
    "\n",
    "\n"
   ]
  },
  {
   "cell_type": "code",
   "execution_count": 12,
   "metadata": {},
   "outputs": [
    {
     "name": "stdout",
     "output_type": "stream",
     "text": [
      "3\n"
     ]
    }
   ],
   "source": [
    "class Solution:\n",
    "    def lengthOfLongestSubstring(self, s:str) -> int:\n",
    "        res, left, right = 0, 0, 0\n",
    "        settings = set()\n",
    "        \n",
    "        for left in range(0, len(s), 1):\n",
    "            right = left\n",
    "            while right < len(s):\n",
    "                if s[right] in settings:\n",
    "                    break\n",
    "                else:\n",
    "                    settings.add(s[right])\n",
    "                    res = max(res, right - left + 1)\n",
    "                    right = right + 1\n",
    "            settings.clear()\n",
    "        \n",
    "        return res\n",
    "    \n",
    "sol = Solution()\n",
    "print(sol.lengthOfLongestSubstring('abcabcbb'))\n",
    "\n"
   ]
  },
  {
   "cell_type": "markdown",
   "metadata": {},
   "source": [
    "时间复杂度：O(n^2)\n",
    "\n",
    "空间复杂度：O(min(n, m)), n值字符串长度，m是字符集的大小\n"
   ]
  },
  {
   "cell_type": "code",
   "execution_count": 16,
   "metadata": {},
   "outputs": [
    {
     "name": "stdout",
     "output_type": "stream",
     "text": [
      "3\n"
     ]
    }
   ],
   "source": [
    "class Solution:\n",
    "    def lengthOfLongestSubstring(self, s:str) -> int:\n",
    "        res, left, right = 0, 0, 0\n",
    "        settings = set()\n",
    "        \n",
    "        while right < len(s):\n",
    "            if s[right] in settings:\n",
    "                while left < right:\n",
    "                    if s[left] == s[right]:\n",
    "                        settings.discard(s[left])\n",
    "                        left += 1\n",
    "                        break\n",
    "                    else:\n",
    "                        settings.discard(s[left])\n",
    "                        left += 1\n",
    "            settings.add(s[right])\n",
    "            res = max(res, right - left + 1)\n",
    "            right += 1\n",
    "                \n",
    "        return res\n",
    "                \n",
    "sol = Solution()\n",
    "print(sol.lengthOfLongestSubstring('abcabcbb'))\n",
    "\n"
   ]
  },
  {
   "cell_type": "markdown",
   "metadata": {},
   "source": [
    "时间复杂度：O(n)\n",
    "\n",
    "空间复杂度：O(min(n, m)), n值字符串长度，m是字符集的大小\n"
   ]
  },
  {
   "cell_type": "code",
   "execution_count": 17,
   "metadata": {},
   "outputs": [
    {
     "name": "stdout",
     "output_type": "stream",
     "text": [
      "3\n"
     ]
    }
   ],
   "source": [
    "class Solution:\n",
    "    def lengthOfLongestSubstring(self, s:str) -> int:\n",
    "        res, left, right = 0, 0, 0\n",
    "        dic = {}\n",
    "        \n",
    "        while right < len(s) and left + res < len(s):\n",
    "            if s[right] in dic:\n",
    "                left = max(left, dic[s[right]] + 1)\n",
    "            dic[s[right]] = right\n",
    "            res = max(res, right - left + 1)\n",
    "            right += 1\n",
    "        return res\n",
    "                \n",
    "sol = Solution()\n",
    "print(sol.lengthOfLongestSubstring('abcabcbb'))\n",
    "\n"
   ]
  },
  {
   "cell_type": "markdown",
   "metadata": {},
   "source": [
    "时间复杂度：O(n)\n",
    "\n",
    "空间复杂度：O(min(n, m)), n值字符串长度，m是字符集的大小\n"
   ]
  },
  {
   "cell_type": "code",
   "execution_count": null,
   "metadata": {},
   "outputs": [],
   "source": []
  },
  {
   "cell_type": "markdown",
   "metadata": {},
   "source": [
    "# 动态规划\n",
    "\n"
   ]
  },
  {
   "cell_type": "markdown",
   "metadata": {},
   "source": [
    "## 爬楼梯\n",
    "\n",
    "需要爬n阶楼梯，每次可以爬1或者2个台阶，有多少种不同的方法？\n",
    "\n"
   ]
  },
  {
   "cell_type": "code",
   "execution_count": 18,
   "metadata": {},
   "outputs": [],
   "source": [
    "class Solution:\n",
    "    def climbStairs(self, n: int) -> int:\n",
    "        if n < 2:\n",
    "            return n\n",
    "        dp = [0] * (n+1)\n",
    "        dp[1], dp[2] = 1, 2\n",
    "        for i in range(3, n + 1):\n",
    "            dp[i] = dp[i - 1] + dp[i - 2]\n",
    "        return dp[n]\n",
    "    "
   ]
  },
  {
   "cell_type": "markdown",
   "metadata": {},
   "source": [
    "时间复杂度: O(n)\n",
    "\n",
    "空间复杂度: O(n)\n"
   ]
  },
  {
   "cell_type": "code",
   "execution_count": null,
   "metadata": {},
   "outputs": [],
   "source": []
  },
  {
   "cell_type": "markdown",
   "metadata": {},
   "source": [
    "## 打家劫舍\n",
    "\n",
    "https://leetcode.com/problems/house-robber/\n",
    "\n",
    "You are a professional robber planning to rob houses along a street. Each house has a certain amount of money stashed, the only constraint stopping you from robbing each of them is that adjacent houses have security systems connected and it will automatically contact the police if two adjacent houses were broken into on the same night.\n",
    "\n",
    "Given an integer array nums representing the amount of money of each house, return the maximum amount of money you can rob tonight without alerting the police.\n",
    "\n",
    "\n"
   ]
  },
  {
   "cell_type": "code",
   "execution_count": 19,
   "metadata": {},
   "outputs": [],
   "source": [
    "class Solution:\n",
    "    def rob(self, nums: List[int]) -> int:\n",
    "        if not nums: return 0\n",
    "        n = len(nums)\n",
    "        dp = [[0]*2 for _ in range(n)]\n",
    "        dp[0][1] = nums[0]\n",
    "        for i in range(1, n):\n",
    "            dp[i][0] = max(dp[i-1][0], dp[i-1][1])\n",
    "            dp[i][1] = dp[i-1][0] + nums[i]\n",
    "        return max(dp[-1])\n",
    "    "
   ]
  },
  {
   "cell_type": "markdown",
   "metadata": {},
   "source": [
    "时间复杂度: O(n)\n",
    "\n",
    "空间复杂度: O(n)\n"
   ]
  },
  {
   "cell_type": "code",
   "execution_count": null,
   "metadata": {},
   "outputs": [],
   "source": []
  },
  {
   "cell_type": "markdown",
   "metadata": {},
   "source": [
    "## 打家劫舍 II\n",
    "\n",
    "https://leetcode.com/problems/house-robber-ii/\n",
    "\n",
    "You are a professional robber planning to rob houses along a street. \n",
    "Each house has a certain amount of money stashed. All houses at this place are arranged in a circle. \n",
    "That means the first house is the neighbor of the last one. \n",
    "Meanwhile, adjacent houses have a security system connected, \n",
    "and it will automatically contact the police if two adjacent houses were broken into on the same night.\n",
    "\n",
    "Given an integer array nums representing the amount of money of each house, \n",
    "return the maximum amount of money you can rob tonight without alerting the police.\n",
    "\n",
    "\n",
    "\n"
   ]
  },
  {
   "cell_type": "code",
   "execution_count": 20,
   "metadata": {},
   "outputs": [],
   "source": [
    "class Solution:\n",
    "    def rob(self, nums: List[int]) -> int:\n",
    "        if not nums:\n",
    "            return 0\n",
    "        if len(nums) == 1:\n",
    "            return nums[0]\n",
    "        # don't robbe the first house, nums[1:n]\n",
    "        # don't robe the last house, nums[0:n-1]\n",
    "        n = len(nums)\n",
    "        return max(self._rob(nums[1:n]), self._rob(nums[:n - 1]))\n",
    "    \n",
    "    def _rob(self, nums):\n",
    "        if not nums:\n",
    "            return 0\n",
    "        n = len(nums)\n",
    "        dp = [[0] * 2 for _ in range(n)]\n",
    "        dp[0][0] = 0\n",
    "        dp[0][1] = nums[0]\n",
    "        for i in range(1, n):\n",
    "            dp[i][0] = max(dp[i - 1][0], dp[i - 1][1])\n",
    "            dp[i][1] = dp[i - 1][0] + nums[i]\n",
    "        return max(dp[n - 1][0], dp[n - 1][1])\n",
    "    "
   ]
  },
  {
   "cell_type": "markdown",
   "metadata": {},
   "source": [
    "时间复杂度: O(n)\n",
    "\n",
    "空间复杂度: O(n)\n"
   ]
  },
  {
   "cell_type": "code",
   "execution_count": null,
   "metadata": {},
   "outputs": [],
   "source": []
  },
  {
   "cell_type": "markdown",
   "metadata": {},
   "source": [
    "## 不同路径\n",
    "\n",
    "62. Unique Paths\n",
    "\n",
    "https://leetcode.com/problems/unique-paths/\n",
    "\n",
    "\n",
    "There is a robot on an m x n grid. The robot is initially located at the top-left corner (i.e., grid[0][0]). The robot tries to move to the bottom-right corner (i.e., grid[m - 1][n - 1]). The robot can only move either down or right at any point in time.\n",
    "\n",
    "Given the two integers m and n, return the number of possible unique paths that the robot can take to reach the bottom-right corner.\n",
    "\n",
    "The test cases are generated so that the answer will be less than or equal to 2 * 109.\n",
    "\n",
    "\n",
    "\n"
   ]
  },
  {
   "cell_type": "code",
   "execution_count": 21,
   "metadata": {},
   "outputs": [],
   "source": [
    "class Solution:\n",
    "    def uniquePaths(self, m: int, n: int) -> int:\n",
    "        dp = [[0]*m for _ in range(n)]\n",
    "        dp[0][0] = 1\n",
    "        for i in range(m):\n",
    "            dp[0][i] = 1\n",
    "        for j in range(n):\n",
    "            dp[j][0] = 1 \n",
    "        for i in range(1, n):\n",
    "            for j in range(1, m):\n",
    "                dp[i][j] = dp[i-1][j] + dp[i][j-1]\n",
    "        return dp[-1][-1]\n",
    "    "
   ]
  },
  {
   "cell_type": "markdown",
   "metadata": {},
   "source": [
    "时间复杂度: O(mn)\n",
    "\n",
    "空间复杂度: O(mn)\n"
   ]
  },
  {
   "cell_type": "code",
   "execution_count": null,
   "metadata": {},
   "outputs": [],
   "source": []
  },
  {
   "cell_type": "markdown",
   "metadata": {},
   "source": [
    "## 零钱兑换\n",
    "\n",
    "给定不同面额的硬币和一个总金额，计算可以凑成总金额所需的最少硬币数。\n",
    "\n",
    "322. Coin Change\n",
    "\n",
    "https://leetcode.com/problems/coin-change/\n",
    "\n",
    "You are given an integer array coins representing coins of different denominations and an integer amount representing a total amount of money.\n",
    "\n",
    "Return the fewest number of coins that you need to make up that amount. \n",
    "If that amount of money cannot be made up by any combination of the coins, return -1.\n",
    "\n",
    "You may assume that you have an infinite number of each kind of coin.\n",
    "\n",
    "\n"
   ]
  },
  {
   "cell_type": "code",
   "execution_count": 22,
   "metadata": {},
   "outputs": [],
   "source": [
    "class Solution:\n",
    "    def coinChange(self, coins: List[int], amount: int) -> int:\n",
    "        dp = [float('inf') for _ in range(amount+1)]\n",
    "        dp[0] = 0\n",
    "        coins.sort()\n",
    "        for i in range(amount+1):\n",
    "            for coin in coins:\n",
    "                if i - coin >= 0:\n",
    "                    dp[i] = min(dp[i-coin] + 1, dp[i])\n",
    "                else:\n",
    "                    break\n",
    "                    \n",
    "        return dp[-1] if dp[-1] != float('inf') else -1\n",
    "    \n",
    "    "
   ]
  },
  {
   "cell_type": "markdown",
   "metadata": {},
   "source": [
    "时间复杂度: O(mn)\n",
    "\n",
    "空间复杂度: O(n)\n"
   ]
  },
  {
   "cell_type": "code",
   "execution_count": null,
   "metadata": {},
   "outputs": [],
   "source": []
  },
  {
   "cell_type": "markdown",
   "metadata": {},
   "source": [
    "## 零钱兑换 II\n",
    "\n",
    "给定不同面额的硬币和一个总金额，计算可以凑成总金额的硬币组合数。假设每一种面额的硬币有无限个。\n",
    "\n",
    "518. Coin Change 2\n",
    "\n",
    "https://leetcode.com/problems/coin-change-2/\n",
    "\n",
    "You are given an integer array coins representing coins of different denominations and an integer amount representing a total amount of money.\n",
    "\n",
    "Return the number of combinations that make up that amount. If that amount of money cannot be made up by any combination of the coins, return 0.\n",
    "\n",
    "You may assume that you have an infinite number of each kind of coin.\n",
    "\n",
    "The answer is guaranteed to fit into a signed 32-bit integer.\n",
    "\n",
    "\n",
    "\n"
   ]
  },
  {
   "cell_type": "code",
   "execution_count": 23,
   "metadata": {},
   "outputs": [],
   "source": [
    "class Solution:\n",
    "    def change(self, amount: int, coins: List[int]) -> int:\n",
    "        coins.sort()\n",
    "        dp = [0] * (amount + 1)\n",
    "        dp[0] = 1\n",
    "        for coin in coins:\n",
    "            for i in range(1, amount+1):\n",
    "                if i - coin >= 0:\n",
    "                    dp[i] += dp[i-coin] \n",
    "        return dp[amount]\n",
    "    \n",
    "    "
   ]
  },
  {
   "cell_type": "markdown",
   "metadata": {},
   "source": [
    "时间复杂度: O(mn)\n",
    "\n",
    "空间复杂度: O(n)\n"
   ]
  },
  {
   "cell_type": "code",
   "execution_count": null,
   "metadata": {},
   "outputs": [],
   "source": []
  },
  {
   "cell_type": "markdown",
   "metadata": {},
   "source": [
    "# 股票问题\n"
   ]
  },
  {
   "cell_type": "markdown",
   "metadata": {},
   "source": [
    "## 买卖股票的最佳时机\n",
    "\n",
    "121. Best Time to Buy and Sell Stock\n",
    "\n",
    "https://leetcode.com/problems/best-time-to-buy-and-sell-stock/\n",
    "\n",
    "如果每天最多只允许完成一次交易（买入或者卖出一只股票），计算所获最大利润\n",
    "\n",
    "You are given an array prices where prices[i] is the price of a given stock on the ith day.\n",
    "\n",
    "You want to maximize your profit by choosing a single day to buy one stock and choosing a different day in the future to sell that stock.\n",
    "\n",
    "Return the maximum profit you can achieve from this transaction. If you cannot achieve any profit, return 0.\n"
   ]
  },
  {
   "cell_type": "code",
   "execution_count": 24,
   "metadata": {},
   "outputs": [],
   "source": [
    "class Solution:\n",
    "    def maxProfit(self, prices: List[int]) -> int:\n",
    "        min_price = float('inf')\n",
    "        max_profit = 0\n",
    "        for price in prices:\n",
    "            min_price = min(min_price, price)\n",
    "            max_profit = max(max_profit, price - min_price)\n",
    "        return max_profit\n",
    "    \n",
    "    "
   ]
  },
  {
   "cell_type": "markdown",
   "metadata": {},
   "source": [
    "时间复杂度：O(n)\n",
    "\n",
    "空间复杂度：O(1)"
   ]
  },
  {
   "cell_type": "code",
   "execution_count": null,
   "metadata": {},
   "outputs": [],
   "source": []
  },
  {
   "cell_type": "markdown",
   "metadata": {},
   "source": [
    "## 买卖股票的最佳时机 II\n",
    "\n",
    "在每一天，你可能会决定购买和/或出售股票。你在任何时候最多只能持有一股股票。你也可以购买它，然后在同一天出售。\n",
    "返回你能获得的最大利润 。\n",
    "\n",
    "122. Best Time to Buy and Sell Stock II\n",
    "\n",
    "https://leetcode.com/problems/best-time-to-buy-and-sell-stock-ii/\n",
    "\n",
    "You are given an integer array prices where prices[i] is the price of a given stock on the ith day.\n",
    "\n",
    "On each day, you may decide to buy and/or sell the stock. You can only hold at most one share of the stock at any time. \n",
    "However, you can buy it then immediately sell it on the same day.\n",
    "\n",
    "Find and return the maximum profit you can achieve.\n",
    "\n",
    "\n"
   ]
  },
  {
   "cell_type": "code",
   "execution_count": 25,
   "metadata": {},
   "outputs": [],
   "source": [
    "class Solution:\n",
    "    def maxProfit(self, prices: List[int]) -> int:\n",
    "        if not prices:\n",
    "            return 0\n",
    "        max_profit = 0\n",
    "        for i in range(len(prices)-1):\n",
    "            diff = prices[i+1] - prices[i]\n",
    "            if diff > 0:\n",
    "                max_profit += diff\n",
    "        return max_profit\n",
    "    \n",
    "    "
   ]
  },
  {
   "cell_type": "code",
   "execution_count": null,
   "metadata": {},
   "outputs": [],
   "source": []
  },
  {
   "cell_type": "markdown",
   "metadata": {},
   "source": [
    "# 回溯"
   ]
  },
  {
   "cell_type": "markdown",
   "metadata": {},
   "source": [
    "## 组合总和I\n",
    "\n",
    "给定一个人无重复元素的数组candidates和一个目标target，找到数组中所有可以使数字和为目标的组合。candidates中数字可以无限制重复被选取。\n",
    "\n",
    "39. Combination Sum\n",
    "\n",
    "Given an array of distinct integers candidates and a target integer target, return a list of all unique combinations of candidates where the chosen numbers sum to target. You may return the combinations in any order.\n",
    "\n",
    "The same number may be chosen from candidates an unlimited number of times. Two combinations are unique if the frequency of at least one of the chosen numbers is different.\n",
    "\n",
    "It is guaranteed that the number of unique combinations that sum up to target is less than 150 combinations for the given input.\n",
    "\n",
    " \n",
    "\n",
    "Example 1:\n",
    "\n",
    "Input: candidates = [2,3,6,7], target = 7\n",
    "\n",
    "Output: [[2,2,3],[7]]\n",
    "\n",
    "Explanation:\n",
    "\n",
    "2 and 3 are candidates, and 2 + 2 + 3 = 7. Note that 2 can be used multiple times.\n",
    "7 is a candidate, and 7 = 7.\n",
    "These are the only two combinations.\n",
    "\n",
    "Example 2:\n",
    "\n",
    "Input: candidates = [2,3,5], target = 8\n",
    "\n",
    "Output: [[2,2,2,2],[2,3,3],[3,5]]\n",
    "\n",
    "\n"
   ]
  },
  {
   "cell_type": "code",
   "execution_count": 26,
   "metadata": {},
   "outputs": [],
   "source": [
    "class Solution:\n",
    "    def combinationSum(self, candidates: List[int], target: int) -> List[List[int]]:\n",
    "        candidates.sort()\n",
    "        res = []\n",
    "        self.dfs(candidates, [], res, target)\n",
    "        return res\n",
    "    \n",
    "    def dfs(self, candidates, comb, res, target):\n",
    "        if sum(comb) == target:\n",
    "            res.append(comb)\n",
    "            return\n",
    "        for i in range(len(candidates)):\n",
    "            if comb and sum(comb) + candidates[i] > target:\n",
    "                return\n",
    "            self.dfs(candidates[i:], comb+[candidates[i]], res, target)\n",
    "        return\n",
    "    "
   ]
  },
  {
   "cell_type": "code",
   "execution_count": null,
   "metadata": {},
   "outputs": [],
   "source": []
  },
  {
   "cell_type": "markdown",
   "metadata": {},
   "source": [
    "## 组合总和II\n",
    "\n",
    "给定一个数组candidates和一个目标target，找到数组中所有可以使数字和为目标的组合。candidates中每个数字在每个组合中只能使用一次。　\n",
    "\n",
    "40. Combination Sum II\n",
    "\n",
    "https://leetcode.com/problems/combination-sum-ii/\n",
    "\n",
    "Given a collection of candidate numbers (candidates) and a target number (target), find all unique combinations in candidates where the candidate numbers sum to target.\n",
    "\n",
    "Each number in candidates may only be used once in the combination.\n",
    "\n",
    "Note: The solution set must not contain duplicate combinations.\n",
    "\n",
    " \n",
    "\n",
    "Example 1:\n",
    "\n",
    "Input: candidates = [10,1,2,7,6,1,5], target = 8\n",
    "\n",
    "Output: \n",
    "\n",
    "[\n",
    "[1,1,6],\n",
    "[1,2,5],\n",
    "[1,7],\n",
    "[2,6]\n",
    "]\n",
    "\n",
    "Example 2:\n",
    "\n",
    "Input: candidates = [2,5,2,1,2], target = 5\n",
    "\n",
    "Output: \n",
    "\n",
    "[\n",
    "[1,2,2],\n",
    "[5]\n",
    "]\n",
    " \n",
    "\n",
    "Constraints:\n",
    "\n",
    "- 1 <= candidates.length <= 100\n",
    "- 1 <= candidates[i] <= 50\n",
    "- 1 <= target <= 30\n",
    "\n"
   ]
  },
  {
   "cell_type": "code",
   "execution_count": 27,
   "metadata": {},
   "outputs": [],
   "source": [
    "class Solution:\n",
    "    def combinationSum2(self, candidates: List[int], target: int) -> List[List[int]]:\n",
    "        res = []\n",
    "        candidates.sort()\n",
    "        self.dfs(candidates, [], res, target)\n",
    "        return res\n",
    "    \n",
    "    def dfs(self, candidates, comb, res, target):\n",
    "        if sum(comb) == target:\n",
    "            res.append(comb)\n",
    "            return\n",
    "        for i in range(len(candidates)):\n",
    "            if i > 0 and candidates[i] == candidates[i-1]:\n",
    "                continue\n",
    "            if comb and candidates[i] + sum(comb) > target:\n",
    "                return\n",
    "            self.dfs(candidates[i+1:], comb+[candidates[i]], res, target)\n",
    "        return\n",
    "    "
   ]
  },
  {
   "cell_type": "code",
   "execution_count": null,
   "metadata": {},
   "outputs": [],
   "source": []
  },
  {
   "cell_type": "markdown",
   "metadata": {},
   "source": [
    "## 组合总和III\n",
    "\n",
    "216. Combination Sum III\n",
    "\n",
    "https://leetcode.com/problems/combination-sum-iii/\n",
    "\n",
    "\n",
    "Find all valid combinations of k numbers that sum up to n such that the following conditions are true:\n",
    "\n",
    "Only numbers 1 through 9 are used.\n",
    "Each number is used at most once.\n",
    "Return a list of all possible valid combinations. The list must not contain the same combination twice, and the combinations may be returned in any order.\n",
    "\n",
    " \n",
    "\n",
    "Example 1:\n",
    "\n",
    "Input: k = 3, n = 7\n",
    "\n",
    "Output: [[1,2,4]]\n",
    "\n",
    "Explanation:\n",
    "\n",
    "1 + 2 + 4 = 7\n",
    "\n",
    "There are no other valid combinations.\n",
    "\n",
    "Example 2:\n",
    "\n",
    "Input: k = 3, n = 9\n",
    "\n",
    "Output: [[1,2,6],[1,3,5],[2,3,4]]\n",
    "\n",
    "Explanation:\n",
    "\n",
    "1 + 2 + 6 = 9\n",
    "1 + 3 + 5 = 9\n",
    "2 + 3 + 4 = 9\n",
    "\n",
    "There are no other valid combinations.\n",
    "\n",
    "Example 3:\n",
    "\n",
    "Input: k = 4, n = 1\n",
    "\n",
    "Output: []\n",
    "\n",
    "Explanation: There are no valid combinations.\n",
    "Using 4 different numbers in the range [1,9], the smallest sum we can get is 1+2+3+4 = 10 and since 10 > 1, there are no valid combination.\n",
    " \n",
    "\n",
    "Constraints:\n",
    "\n",
    "- 2 <= k <= 9\n",
    "- 1 <= n <= 60\n",
    "\n",
    "\n"
   ]
  },
  {
   "cell_type": "code",
   "execution_count": 28,
   "metadata": {},
   "outputs": [],
   "source": [
    "class Solution:\n",
    "    def combinationSum3(self, k: int, n: int) -> List[List[int]]:\n",
    "        nums = [i+1 for i in range(9)]\n",
    "        res = []\n",
    "        self.dfs(nums, [], res, k, n)\n",
    "        return res\n",
    "    \n",
    "    def dfs(self, nums, comb, res, k, n):\n",
    "        if len(comb) == k and sum(comb) == n:\n",
    "            res.append(comb)\n",
    "            return\n",
    "        for i in range(len(nums)):\n",
    "            if comb and nums[i] + sum(comb) > n:\n",
    "                return\n",
    "            self.dfs(nums[i+1:], comb+[nums[i]], res, k, n)\n",
    "        return\n",
    "    \n",
    "    "
   ]
  },
  {
   "cell_type": "code",
   "execution_count": null,
   "metadata": {},
   "outputs": [],
   "source": []
  },
  {
   "cell_type": "markdown",
   "metadata": {},
   "source": [
    "## 组合总和IV\n",
    "\n",
    "377. Combination Sum IV\n",
    "\n",
    "https://leetcode.com/problems/combination-sum-iv/\n",
    "\n",
    "Given an array of distinct integers nums and a target integer target, return the number of possible combinations that add up to target.\n",
    "\n",
    "The test cases are generated so that the answer can fit in a 32-bit integer.\n",
    "\n",
    " \n",
    "\n",
    "Example 1:\n",
    "\n",
    "Input: nums = [1,2,3], target = 4\n",
    "\n",
    "Output: 7\n",
    "\n",
    "Explanation:\n",
    "\n",
    "The possible combination ways are:\n",
    "\n",
    "(1, 1, 1, 1)\n",
    "(1, 1, 2)\n",
    "(1, 2, 1)\n",
    "(1, 3)\n",
    "(2, 1, 1)\n",
    "(2, 2)\n",
    "(3, 1)\n",
    "\n",
    "Note that different sequences are counted as different combinations.\n",
    "\n",
    "Example 2:\n",
    "\n",
    "Input: nums = [9], target = 3\n",
    "\n",
    "Output: 0\n",
    " \n",
    "\n",
    "Constraints:\n",
    "\n",
    "- 1 <= nums.length <= 200\n",
    "- 1 <= nums[i] <= 1000\n",
    "- All the elements of nums are unique.\n",
    "- 1 <= target <= 1000\n",
    " \n",
    "\n",
    "Follow up: What if negative numbers are allowed in the given array? How does it change the problem? What limitation we need to add to the question to allow negative numbers?\n",
    "\n",
    "\n",
    "\n"
   ]
  },
  {
   "cell_type": "code",
   "execution_count": 29,
   "metadata": {},
   "outputs": [],
   "source": [
    "class Solution:\n",
    "    def combinationSum4(self, nums: List[int], target: int) -> int:\n",
    "        dp = [0] * (target + 1)\n",
    "        dp[0] = 1\n",
    "        for i in range(1, target + 1):\n",
    "            for num in nums:\n",
    "                if i >= num:\n",
    "                    dp[i] += dp[i - num]\n",
    "        return dp[-1]\n",
    "    \n",
    "    "
   ]
  },
  {
   "cell_type": "code",
   "execution_count": null,
   "metadata": {},
   "outputs": [],
   "source": []
  },
  {
   "cell_type": "markdown",
   "metadata": {},
   "source": [
    "## 子集\n",
    "\n",
    "给定一组不含重复元素的整数数组nums，返回该数组所有可能的子集（幂集）。\n",
    "\n",
    "78. Subsets\n",
    "\n",
    "https://leetcode.com/problems/subsets/\n",
    "\n",
    "Given an integer array nums of unique elements, return all possible subsets (the power set).\n",
    "\n",
    "The solution set must not contain duplicate subsets. Return the solution in any order.\n",
    "\n",
    " \n",
    "\n",
    "Example 1:\n",
    "\n",
    "Input: nums = [1,2,3]\n",
    "\n",
    "Output: [[],[1],[2],[1,2],[3],[1,3],[2,3],[1,2,3]]\n",
    "\n",
    "Example 2:\n",
    "\n",
    "Input: nums = [0]\n",
    "\n",
    "Output: [[],[0]]\n",
    " \n",
    "\n",
    "Constraints:\n",
    "\n",
    "- 1 <= nums.length <= 10\n",
    "- -10 <= nums[i] <= 10\n",
    "- All the numbers of nums are unique.\n",
    "\n",
    "\n",
    "\n"
   ]
  },
  {
   "cell_type": "code",
   "execution_count": 30,
   "metadata": {},
   "outputs": [],
   "source": [
    "class Solution:\n",
    "    def subsets(self, nums: List[int]) -> List[List[int]]:\n",
    "        res = []\n",
    "        self.dfs(nums, [], res)\n",
    "        return res\n",
    "    \n",
    "    def dfs(self, nums, comb, res):\n",
    "        res.append(comb)\n",
    "        if not nums:\n",
    "            return\n",
    "        for i in range(len(nums)):\n",
    "            self.dfs(nums[i+1:], comb+[nums[i]], res)\n",
    "        return\n",
    "    \n",
    "    "
   ]
  },
  {
   "cell_type": "code",
   "execution_count": null,
   "metadata": {},
   "outputs": [],
   "source": []
  },
  {
   "cell_type": "markdown",
   "metadata": {},
   "source": [
    "## 子集 II\n",
    "\n",
    "https://leetcode.com/problems/subsets-ii/\n",
    "\n",
    "90. Subsets II\n",
    "\n",
    "Given an integer array nums that may contain duplicates, return all possible subsets (the power set).\n",
    "\n",
    "The solution set must not contain duplicate subsets. Return the solution in any order.\n",
    "\n",
    " \n",
    "\n",
    "Example 1:\n",
    "\n",
    "Input: nums = [1,2,2]\n",
    "\n",
    "Output: [[],[1],[1,2],[1,2,2],[2],[2,2]]\n",
    "\n",
    "Example 2:\n",
    "\n",
    "Input: nums = [0]\n",
    "\n",
    "Output: [[],[0]]\n",
    " \n",
    "\n",
    "Constraints:\n",
    "\n",
    "- 1 <= nums.length <= 10\n",
    "- -10 <= nums[i] <= 10\n",
    "\n"
   ]
  },
  {
   "cell_type": "code",
   "execution_count": 31,
   "metadata": {},
   "outputs": [],
   "source": [
    "class Solution:\n",
    "    def subsetsWithDup(self, nums: List[int]) -> List[List[int]]:\n",
    "        res = []\n",
    "        nums.sort()\n",
    "        self.dfs(nums, [], res)\n",
    "        return res\n",
    "    \n",
    "    def dfs(self, nums, comb, res):\n",
    "        res.append(comb)\n",
    "        for i in range(len(nums)):\n",
    "            if i > 0 and nums[i] == nums[i-1]:\n",
    "                continue\n",
    "            self.dfs(nums[i+1:], comb+[nums[i]], res)\n",
    "        return\n",
    "    \n",
    "    "
   ]
  },
  {
   "cell_type": "code",
   "execution_count": null,
   "metadata": {},
   "outputs": [],
   "source": []
  },
  {
   "cell_type": "markdown",
   "metadata": {},
   "source": [
    "## 全排列\n",
    "\n",
    "给定一个没有重复的数字序列，返回其所有可能的全排列。\n",
    "\n",
    "https://leetcode.com/problems/permutations/\n",
    "\n",
    "46. Permutations\n",
    "\n",
    "Given an array nums of distinct integers, return all the possible permutations. You can return the answer in any order.\n",
    "\n",
    " \n",
    "\n",
    "Example 1:\n",
    "\n",
    "Input: nums = [1,2,3]\n",
    "\n",
    "Output: [[1,2,3],[1,3,2],[2,1,3],[2,3,1],[3,1,2],[3,2,1]]\n",
    "\n",
    "Example 2:\n",
    "\n",
    "Input: nums = [0,1]\n",
    "\n",
    "Output: [[0,1],[1,0]]\n",
    "\n",
    "Example 3:\n",
    "\n",
    "Input: nums = [1]\n",
    "\n",
    "Output: [[1]]\n",
    " \n",
    "\n",
    "Constraints:\n",
    "\n",
    "- 1 <= nums.length <= 6\n",
    "- -10 <= nums[i] <= 10\n",
    "- All the integers of nums are unique.\n",
    "\n"
   ]
  },
  {
   "cell_type": "code",
   "execution_count": 32,
   "metadata": {},
   "outputs": [],
   "source": [
    "class Solution:\n",
    "    def permute(self, nums: List[int]) -> List[List[int]]:\n",
    "        res = []\n",
    "        self._permute([], nums, res, len(nums))\n",
    "        return res\n",
    "        \n",
    "    def _permute(self, comb, nums, res, n):\n",
    "        if len(comb) == n:\n",
    "            res.append(comb)\n",
    "            return\n",
    "        for i in range(len(nums)):\n",
    "            self._permute(comb + [nums[i]], nums[:i] + nums[i+1:], res, n)\n",
    "        return\n",
    "    \n",
    "    "
   ]
  },
  {
   "cell_type": "code",
   "execution_count": null,
   "metadata": {},
   "outputs": [],
   "source": []
  },
  {
   "cell_type": "markdown",
   "metadata": {},
   "source": [
    "## 全排列 II\n",
    "\n",
    "https://leetcode.com/problems/permutations-ii/\n",
    "\n",
    "Given a collection of numbers, nums, that might contain duplicates, return all possible unique permutations in any order.\n",
    "\n",
    " \n",
    "\n",
    "Example 1:\n",
    "\n",
    "Input: nums = [1,1,2]\n",
    "\n",
    "Output:\n",
    "\n",
    "[[1,1,2],\n",
    " [1,2,1],\n",
    " [2,1,1]]\n",
    "\n",
    "Example 2:\n",
    "\n",
    "Input: nums = [1,2,3]\n",
    "\n",
    "Output: [[1,2,3],[1,3,2],[2,1,3],[2,3,1],[3,1,2],[3,2,1]]\n",
    " \n",
    "\n",
    "Constraints:\n",
    "\n",
    "- 1 <= nums.length <= 8\n",
    "- -10 <= nums[i] <= 10\n",
    "\n"
   ]
  },
  {
   "cell_type": "code",
   "execution_count": 33,
   "metadata": {},
   "outputs": [],
   "source": [
    "class Solution:\n",
    "    def permuteUnique(self, nums: List[int]) -> List[List[int]]:\n",
    "        res = []\n",
    "        nums.sort()\n",
    "        self._permute([], nums, res, len(nums))\n",
    "        return res\n",
    "        \n",
    "    def _permute(self, comb, nums, res, n):\n",
    "        if len(comb) == n:\n",
    "            res.append(comb)\n",
    "            return\n",
    "        for i in range(len(nums)):\n",
    "            if i > 0 and nums[i] == nums[i-1]:\n",
    "                continue\n",
    "            self._permute(comb + [nums[i]], nums[:i] + nums[i+1:], res, n)\n",
    "        return\n",
    "    "
   ]
  },
  {
   "cell_type": "code",
   "execution_count": null,
   "metadata": {},
   "outputs": [],
   "source": []
  },
  {
   "cell_type": "markdown",
   "metadata": {},
   "source": [
    "## Combinations\n",
    "\n",
    "https://leetcode.com/problems/combinations/\n",
    "\n",
    "77. Combinations\n",
    "\n",
    "\n",
    "Given two integers n and k, return all possible combinations of k numbers out of the range [1, n].\n",
    "\n",
    "You may return the answer in any order.\n",
    "\n",
    " \n",
    "\n",
    "Example 1:\n",
    "\n",
    "Input: n = 4, k = 2\n",
    "\n",
    "Output:\n",
    "\n",
    "[\n",
    "  [2,4],\n",
    "  [3,4],\n",
    "  [2,3],\n",
    "  [1,2],\n",
    "  [1,3],\n",
    "  [1,4],\n",
    "]\n",
    "\n",
    "Example 2:\n",
    "\n",
    "Input: n = 1, k = 1\n",
    "\n",
    "Output: [[1]]\n",
    " \n",
    "\n",
    "Constraints:\n",
    "\n",
    "- 1 <= n <= 20\n",
    "- 1 <= k <= n\n",
    "\n",
    "\n"
   ]
  },
  {
   "cell_type": "code",
   "execution_count": 34,
   "metadata": {},
   "outputs": [],
   "source": [
    "class Solution:\n",
    "    def combine(self, n: int, k: int) -> List[List[int]]:\n",
    "        res = []\n",
    "        nums = [i+1 for i in range(n)]\n",
    "        self._combine([], k, res, nums)\n",
    "        return res\n",
    "    \n",
    "    def _combine(self, comb, k, res, nums):\n",
    "        if len(comb) == k:\n",
    "            res.append(comb)\n",
    "            return\n",
    "        for i in range(len(nums)):\n",
    "            self._combine(comb+[nums[i]], k, res, nums[i+1:])\n",
    "        return\n",
    "    \n",
    "    "
   ]
  },
  {
   "cell_type": "code",
   "execution_count": null,
   "metadata": {},
   "outputs": [],
   "source": []
  },
  {
   "cell_type": "code",
   "execution_count": null,
   "metadata": {},
   "outputs": [],
   "source": []
  },
  {
   "cell_type": "code",
   "execution_count": null,
   "metadata": {},
   "outputs": [],
   "source": []
  },
  {
   "cell_type": "code",
   "execution_count": null,
   "metadata": {},
   "outputs": [],
   "source": []
  },
  {
   "cell_type": "code",
   "execution_count": null,
   "metadata": {},
   "outputs": [],
   "source": []
  },
  {
   "cell_type": "code",
   "execution_count": null,
   "metadata": {},
   "outputs": [],
   "source": []
  },
  {
   "cell_type": "code",
   "execution_count": null,
   "metadata": {},
   "outputs": [],
   "source": []
  },
  {
   "cell_type": "code",
   "execution_count": null,
   "metadata": {},
   "outputs": [],
   "source": []
  },
  {
   "cell_type": "code",
   "execution_count": null,
   "metadata": {},
   "outputs": [],
   "source": []
  }
 ],
 "metadata": {
  "kernelspec": {
   "display_name": "Python 3 (ipykernel)",
   "language": "python",
   "name": "python3"
  },
  "language_info": {
   "codemirror_mode": {
    "name": "ipython",
    "version": 3
   },
   "file_extension": ".py",
   "mimetype": "text/x-python",
   "name": "python",
   "nbconvert_exporter": "python",
   "pygments_lexer": "ipython3",
   "version": "3.9.7"
  },
  "toc": {
   "base_numbering": 1,
   "nav_menu": {},
   "number_sections": true,
   "sideBar": true,
   "skip_h1_title": false,
   "title_cell": "Table of Contents",
   "title_sidebar": "Contents",
   "toc_cell": true,
   "toc_position": {
    "height": "calc(100% - 180px)",
    "left": "10px",
    "top": "150px",
    "width": "196px"
   },
   "toc_section_display": true,
   "toc_window_display": true
  }
 },
 "nbformat": 4,
 "nbformat_minor": 4
}
